{
 "cells": [
  {
   "cell_type": "code",
   "execution_count": 1,
   "metadata": {},
   "outputs": [],
   "source": [
    "## Load environment variables\n",
    "import os\n",
    "from dotenv import load_dotenv\n",
    "\n",
    "load_dotenv()\n",
    "assert os.environ['LANGCHAIN_API_KEY'], \"Please set the LANGCHAIN_API_KEY environment variable\"\n",
    "assert os.environ['GROQ_API_KEY'], \"Please set the GROQ_API_KEY environment variable\"\n",
    "assert os.environ['OPENAI_API_KEY'], \"Please set the OPENAI_API_KEY environment variable\"\n",
    "\n",
    "DATA_DIR = \"../../data/raw\"\n",
    "DATA_CSV_PATH = DATA_DIR + \"/Fixed_Synthetic_Data.csv\""
   ]
  },
  {
   "cell_type": "code",
   "execution_count": 2,
   "metadata": {},
   "outputs": [],
   "source": [
    "## Read CSV file with LangChain\n",
    "from langchain_community.document_loaders.csv_loader import CSVLoader\n",
    "\n",
    "loader = CSVLoader(file_path=DATA_CSV_PATH)\n",
    "\n",
    "data = loader.load()"
   ]
  },
  {
   "cell_type": "code",
   "execution_count": null,
   "metadata": {},
   "outputs": [],
   "source": [
    "## Convert CSV file to SQL file\n",
    "import pandas as pd\n",
    "from sqlalchemy import create_engine, MetaData, Table, text\n",
    "\n",
    "sqlite_db_path = DATA_DIR + \"/orders.db\"\n",
    "engine = create_engine(f\"sqlite:///{sqlite_db_path}\")\n",
    "df = pd.read_csv(DATA_CSV_PATH)\n",
    "\n",
    "with engine.connect() as conn:\n",
    "    rows = df.to_sql(name=\"orders\", con=engine, if_exists=\"replace\", index=False)\n",
    "    print(f\"Inserted {rows} rows into the orders table\")\n",
    "\n",
    "    ## Check database\n",
    "    table = Table('orders', MetaData(), autoload_with=engine)\n",
    "    print(f\"Columns in table '{table.name}':\")\n",
    "    print(table.columns.values())\n",
    "\n",
    "    rows = conn.execute(text(\"SELECT * FROM orders LIMIT 5\")).fetchall()\n",
    "    print(f\"Sample rows in table '{table.name}':\")\n",
    "    for row in rows:\n",
    "        print(row)\n",
    "\n",
    "engine.dispose()"
   ]
  },
  {
   "cell_type": "code",
   "execution_count": null,
   "metadata": {},
   "outputs": [],
   "source": [
    "## Initialize LLM and SQL toolkit\n",
    "from langchain_groq import ChatGroq\n",
    "from langchain_openai import ChatOpenAI\n",
    "from langchain_community.utilities import SQLDatabase\n",
    "from langchain_community.agent_toolkits import SQLDatabaseToolkit\n",
    "\n",
    "groq_llm = ChatGroq(model=\"llama3-8b-8192\")\n",
    "openai_llm = ChatOpenAI(model=\"gpt-4o-mini\", api_key=os.environ['OPENAI_API_KEY'])\n",
    "db = SQLDatabase.from_uri(f\"sqlite:///{sqlite_db_path}\")\n",
    "print(db.get_usable_table_names())\n",
    "\n",
    "toolkit = SQLDatabaseToolkit(db=db, llm=groq_llm)\n",
    "tools = toolkit.get_tools()\n",
    "print(tools)"
   ]
  },
  {
   "cell_type": "code",
   "execution_count": 5,
   "metadata": {},
   "outputs": [],
   "source": [
    "## Initialize agent\n",
    "from langgraph.prebuilt import create_react_agent\n",
    "from langchain import hub\n",
    "\n",
    "## Prompt template for SQL agent, which contains rules for generating required SQL queries\n",
    "prompt_template = hub.pull(\"langchain-ai/sql-agent-system-prompt\")\n",
    "system_message = prompt_template.format(dialect=\"SQLite\", top_k=5)\n",
    "\n",
    "agent_executor = create_react_agent(\n",
    "    model=openai_llm, tools=tools, state_modifier=system_message\n",
    ")"
   ]
  },
  {
   "cell_type": "code",
   "execution_count": null,
   "metadata": {},
   "outputs": [],
   "source": [
    "print(prompt_template)"
   ]
  },
  {
   "cell_type": "code",
   "execution_count": null,
   "metadata": {},
   "outputs": [],
   "source": [
    "## Issue query\n",
    "example_query = \"You are working for a financial institution. You are tasked with compliance reporting for the orders of the day. Identify anomalies and provide reasons they are suspicious.\"\n",
    "\n",
    "events = agent_executor.stream(\n",
    "    {\"messages\": [(\"user\", example_query)]},\n",
    "    stream_mode=\"values\",\n",
    ")\n",
    "for event in events:\n",
    "    event[\"messages\"][-1].pretty_print()"
   ]
  },
  {
   "cell_type": "code",
   "execution_count": null,
   "metadata": {},
   "outputs": [],
   "source": [
    "output = agent_executor.invoke({\"messages\": [(\"user\", example_query)]})\n",
    "output[\"messages\"][-1]"
   ]
  },
  {
   "cell_type": "code",
   "execution_count": 8,
   "metadata": {},
   "outputs": [],
   "source": [
    "## Parse output\n"
   ]
  }
 ],
 "metadata": {
  "kernelspec": {
   "display_name": "llm_langchain",
   "language": "python",
   "name": "python3"
  },
  "language_info": {
   "codemirror_mode": {
    "name": "ipython",
    "version": 3
   },
   "file_extension": ".py",
   "mimetype": "text/x-python",
   "name": "python",
   "nbconvert_exporter": "python",
   "pygments_lexer": "ipython3",
   "version": "3.11.7"
  }
 },
 "nbformat": 4,
 "nbformat_minor": 2
}
