{
 "cells": [
  {
   "cell_type": "markdown",
   "metadata": {},
   "source": [
    "Working draft for ease of experimenting"
   ]
  },
  {
   "cell_type": "code",
   "execution_count": 1,
   "metadata": {},
   "outputs": [],
   "source": [
    "## Load environment variables\n",
    "import os\n",
    "from dotenv import load_dotenv\n",
    "\n",
    "load_dotenv()\n",
    "assert os.environ['LANGCHAIN_API_KEY'], \"Please set the LANGCHAIN_API_KEY environment variable\"\n",
    "assert os.environ['GROQ_API_KEY'], \"Please set the GROQ_API_KEY environment variable\"\n",
    "assert os.environ['OPENAI_API_KEY'], \"Please set the OPENAI_API_KEY environment variable\"\n",
    "\n",
    "DATA_DIR = \"../../data/raw\"\n",
    "DATA_CSV_PATH = DATA_DIR + \"/data.csv\""
   ]
  },
  {
   "cell_type": "markdown",
   "metadata": {},
   "source": [
    "Convert raw CSV data to SQL file"
   ]
  },
  {
   "cell_type": "code",
   "execution_count": 2,
   "metadata": {},
   "outputs": [],
   "source": [
    "## Import data\n",
    "import pandas as pd\n",
    "\n",
    "df = pd.read_csv(DATA_CSV_PATH)"
   ]
  },
  {
   "cell_type": "code",
   "execution_count": 3,
   "metadata": {},
   "outputs": [
    {
     "name": "stdout",
     "output_type": "stream",
     "text": [
      "Inserted 5000 rows into the orders table\n",
      "Columns in table 'orders':\n",
      "[Column('Instance', TEXT(), table=<orders>), Column('OrderNo', BIGINT(), table=<orders>), Column('ParentOrderNo', BIGINT(), table=<orders>), Column('RootParentOrderNo', BIGINT(), table=<orders>), Column('CreateDate', TEXT(), table=<orders>), Column('DeleteDate', TEXT(), table=<orders>), Column('AccID', BIGINT(), table=<orders>), Column('AccCode', TEXT(), table=<orders>), Column('BuySell', TEXT(), table=<orders>), Column('Side', BIGINT(), table=<orders>), Column('OrderSide', TEXT(), table=<orders>), Column('SecID', BIGINT(), table=<orders>), Column('SecCode', TEXT(), table=<orders>), Column('Exchange', TEXT(), table=<orders>), Column('Destination', TEXT(), table=<orders>), Column('Quantity', BIGINT(), table=<orders>), Column('PriceMultiplier', FLOAT(), table=<orders>), Column('Price', FLOAT(), table=<orders>), Column('Value', FLOAT(), table=<orders>), Column('ValueMultiplier', FLOAT(), table=<orders>), Column('DoneVolume', BIGINT(), table=<orders>), Column('DoneValue', FLOAT(), table=<orders>), Column('Currency', TEXT(), table=<orders>), Column('OrderType', BIGINT(), table=<orders>), Column('PriceInstruction', TEXT(), table=<orders>), Column('TimeInForce', BIGINT(), table=<orders>), Column('Lifetime', TEXT(), table=<orders>), Column('ClientOrderID', FLOAT(), table=<orders>), Column('SecondaryClientOrderID', FLOAT(), table=<orders>), Column('DestOrderNo', FLOAT(), table=<orders>), Column('ExtDestOrderNo', TEXT(), table=<orders>), Column('DestUserID', BIGINT(), table=<orders>), Column('OrderGiver', TEXT(), table=<orders>), Column('OrderTakerUserCode', TEXT(), table=<orders>), Column('IntermediaryID', FLOAT(), table=<orders>), Column('OriginOfOrder', TEXT(), table=<orders>), Column('OrderCapacity', TEXT(), table=<orders>), Column('DirectedWholesale', TEXT(), table=<orders>), Column('ExecutionVenue', FLOAT(), table=<orders>), Column('ExecutionInstructionsRaw', TEXT(), table=<orders>)]\n",
      "Sample rows in table 'orders':\n",
      "('BURGERKING', 72372283, 55096261, 468008605, '1/2/2024 13:07', '1/2/2024 16:32', 85, 'ROBBO', 'B', 1, 'Buy', 935559491, 'BHP', 'ASX', 'CXA', 15728, 0.01, 287.2676534, 4518145.652, 0.01, 7897, 2268552.659, 'AUD', 4, 'Market On Close', 41, 'Good Till Cancel', 0.693233102, 0.53851384, 4.16e+18, '27Y19YXOGV80', 4770, 'robbotest', 'admin@IRETEST', 71423.78372, 'ROBTESTING', 'Principal', 'N', 0.148754854, 'IADW(N), IOCA(Agency), IAOR(39)')\n",
      "('BURGERKING', 72371760, 46567211, 651932639, '1/2/2024 16:11', '1/2/2024 16:37', 144, 'NOEL', 'B', 1, 'Short Sell', 553895436, 'NXT', 'ASX', 'CXA', 797, 0.01, 70.18433459, 55936.91466, 0.01, 310, 21757.14372, 'AUD', 2, 'Limit', 5, 'Good Till Cancel', 0.079161151, 0.178619235, 4.19e+18, '27Y19YXOG7UF', 4468, 'robtest', 'admin@ROBBOTEST', 12599.79466, '39', 'Agency', 'N', 0.934946988, 'IAOR(ROBTESTING), IOCA(Agency), IADW(N), IAIN(123456)')\n",
      "('BURGERKING', 72375159, 32939774, 472062144, '1/2/2024 17:10', '1/2/2024 17:14', 85, 'ROBBO', 'B', 2, 'Long Sell', 139756048, 'PEN', 'AXW', 'CXA', 13368, 0.01, 44.98629334, 601376.7693, 0.01, 8286, 372756.4266, 'AUD', 2, 'Limit', 7, 'Good Till Time', 0.519067342, 0.516127949, 2.02e+18, '27Y19YXOG7UB', 4619, 'robtest', 'admin@ROBBOTEST', 53707.63492, 'NOEL', 'Principal', 'N', 0.889762618, 'IAOR(TESTINGACC), IOCA(Agency), IADW(N)')\n",
      "('BURGERKING', 72371424, 5227412, 319309289, '1/2/2024 16:03', '1/2/2024 14:51', 119, 'ROBBO', 'S', 4, 'Long Sell', 1095934527, 'PEN', 'AXW', 'ASX', 15568, 0.01, 42.46914535, 661159.6549, 0.01, 8693, 369184.2806, 'AUD', 4, 'Market On Close', 52, 'Good Till Cancel', 0.399016536, 0.683162145, 9.99e+17, '27Y19YXOG7UF', 964, 'robbotest', 'admin@ROBBOTEST', 105870.7382, 'HK', 'Principal', 'N', 0.737766287, 'IADW(N), IOCA(Agency), IAOR(NOEL), IAIN(54321)')\n",
      "('BURGERKING', 72370582, 839479, 670284316, '1/2/2024 15:50', '1/2/2024 18:38', 9, 'ZM', 'B', 2, 'Long Sell', 587836748, 'BHP', 'AXW', 'ASX', 1292, 0.01, 284.2721102, 367279.5664, 0.01, 462, 131333.7149, 'AUD', 2, 'Market On Close', 25, 'Fill And Kill', 0.193702032, 0.543121091, 4.15e+17, '17Y19YXOID1C', 488, 'robtest', 'admin@ROBBOTEST', 29797.33673, 'ROBTESTING', 'Agency', 'N', 0.499591735, 'IAOR(TESTINGACC), IOCA(Agency), IADW(N)')\n"
     ]
    }
   ],
   "source": [
    "## Convert CSV file to SQL file\n",
    "from sqlalchemy import create_engine, MetaData, Table, text\n",
    "\n",
    "sqlite_db_path = DATA_DIR + \"/orders.db\"\n",
    "engine = create_engine(f\"sqlite:///{sqlite_db_path}\")\n",
    "\n",
    "with engine.connect() as conn:\n",
    "    rows = df.to_sql(name=\"orders\", con=engine, if_exists=\"replace\", index=False)\n",
    "    print(f\"Inserted {rows} rows into the orders table\")\n",
    "\n",
    "    ## Check database\n",
    "    table = Table('orders', MetaData(), autoload_with=engine)\n",
    "    print(f\"Columns in table '{table.name}':\")\n",
    "    print(table.columns.values())\n",
    "\n",
    "    rows = conn.execute(text(\"SELECT * FROM orders LIMIT 5\")).fetchall()\n",
    "    print(f\"Sample rows in table '{table.name}':\")\n",
    "    for row in rows:\n",
    "        print(row)\n",
    "\n",
    "engine.dispose()"
   ]
  },
  {
   "cell_type": "code",
   "execution_count": 4,
   "metadata": {},
   "outputs": [],
   "source": [
    "## Pre-process data - Convert dates to datetime objects\n",
    "from datetime import datetime\n",
    "\n",
    "df['CreateDate'] = df['CreateDate'].apply(lambda x: datetime.strptime(x, \"%d/%m/%Y %H:%M\"))\n",
    "df['DeleteDate'] = df['DeleteDate'].apply(lambda x: datetime.strptime(x, \"%d/%m/%Y %H:%M\"))"
   ]
  },
  {
   "cell_type": "code",
   "execution_count": 5,
   "metadata": {},
   "outputs": [
    {
     "data": {
      "text/plain": [
       "\"{'current': {'total_number_of_orders': 5000, 'total_volume_of_orders': 20176480, 'total_value_of_orders': 80582268.83}, 'average_historical': {'total_number_of_orders': 5000, 'total_volume_of_orders': 20176480, 'total_value_of_orders': 80582268.83}, 'percentage_difference': {'in_total_orders': 0.0, 'in_total_volume': 0.0, 'in_total_value': 0.0}}\""
      ]
     },
     "execution_count": 5,
     "metadata": {},
     "output_type": "execute_result"
    }
   ],
   "source": [
    "## Get relevant metrics\n",
    "from utils import calculations\n",
    "\n",
    "bi1_overview, bi2_sector, bi3_capacity, bi4_lifetime, bi5_price_instruction, \\\n",
    "    bi6_trades_over_time, bi7_sankey_diagram = calculations.calculate_metrics(df)\n",
    "\n",
    "str(bi1_overview)"
   ]
  },
  {
   "cell_type": "markdown",
   "metadata": {},
   "source": [
    "Initialize LLMs to be used (eg. Groq / Llama, OpenAI)"
   ]
  },
  {
   "cell_type": "code",
   "execution_count": 6,
   "metadata": {},
   "outputs": [
    {
     "name": "stdout",
     "output_type": "stream",
     "text": [
      "['orders']\n",
      "[QuerySQLDataBaseTool(description=\"Input to this tool is a detailed and correct SQL query, output is a result from the database. If the query is not correct, an error message will be returned. If an error is returned, rewrite the query, check the query, and try again. If you encounter an issue with Unknown column 'xxxx' in 'field list', use sql_db_schema to query the correct table fields.\", db=<langchain_community.utilities.sql_database.SQLDatabase object at 0x000001EFCDF7E0D0>), InfoSQLDatabaseTool(description='Input to this tool is a comma-separated list of tables, output is the schema and sample rows for those tables. Be sure that the tables actually exist by calling sql_db_list_tables first! Example Input: table1, table2, table3', db=<langchain_community.utilities.sql_database.SQLDatabase object at 0x000001EFCDF7E0D0>), ListSQLDatabaseTool(db=<langchain_community.utilities.sql_database.SQLDatabase object at 0x000001EFCDF7E0D0>), QuerySQLCheckerTool(description='Use this tool to double check if your query is correct before executing it. Always use this tool before executing a query with sql_db_query!', db=<langchain_community.utilities.sql_database.SQLDatabase object at 0x000001EFCDF7E0D0>, llm=ChatOpenAI(client=<openai.resources.chat.completions.Completions object at 0x000001EFCDEC3350>, async_client=<openai.resources.chat.completions.AsyncCompletions object at 0x000001EFCDF6EFD0>, root_client=<openai.OpenAI object at 0x000001EFCDF7D1D0>, root_async_client=<openai.AsyncOpenAI object at 0x000001EFCE07B910>, model_name='gpt-4o-mini', model_kwargs={}, openai_api_key=SecretStr('**********')), llm_chain=LLMChain(verbose=False, prompt=PromptTemplate(input_variables=['dialect', 'query'], input_types={}, partial_variables={}, template='\\n{query}\\nDouble check the {dialect} query above for common mistakes, including:\\n- Using NOT IN with NULL values\\n- Using UNION when UNION ALL should have been used\\n- Using BETWEEN for exclusive ranges\\n- Data type mismatch in predicates\\n- Properly quoting identifiers\\n- Using the correct number of arguments for functions\\n- Casting to the correct data type\\n- Using the proper columns for joins\\n\\nIf there are any of the above mistakes, rewrite the query. If there are no mistakes, just reproduce the original query.\\n\\nOutput the final SQL query only.\\n\\nSQL Query: '), llm=ChatOpenAI(client=<openai.resources.chat.completions.Completions object at 0x000001EFCDEC3350>, async_client=<openai.resources.chat.completions.AsyncCompletions object at 0x000001EFCDF6EFD0>, root_client=<openai.OpenAI object at 0x000001EFCDF7D1D0>, root_async_client=<openai.AsyncOpenAI object at 0x000001EFCE07B910>, model_name='gpt-4o-mini', model_kwargs={}, openai_api_key=SecretStr('**********')), output_parser=StrOutputParser(), llm_kwargs={}))]\n"
     ]
    }
   ],
   "source": [
    "## Initialize LLM and SQL toolkit\n",
    "from langchain_groq import ChatGroq\n",
    "from langchain_openai import ChatOpenAI\n",
    "from langchain_community.utilities import SQLDatabase\n",
    "from langchain_community.agent_toolkits import SQLDatabaseToolkit\n",
    "\n",
    "groq_llm = ChatGroq(model=\"llama3-8b-8192\")\n",
    "openai_llm = ChatOpenAI(model=\"gpt-4o-mini\", api_key=os.environ['OPENAI_API_KEY'])\n",
    "db = SQLDatabase.from_uri(f\"sqlite:///{sqlite_db_path}\")\n",
    "print(db.get_usable_table_names())\n",
    "\n",
    "toolkit = SQLDatabaseToolkit(db=db, llm=openai_llm)\n",
    "tools = toolkit.get_tools()\n",
    "print(tools)"
   ]
  },
  {
   "cell_type": "markdown",
   "metadata": {},
   "source": [
    "Create SQL agent that interprets SQL file by generating SQL queries in the background"
   ]
  },
  {
   "cell_type": "code",
   "execution_count": 7,
   "metadata": {},
   "outputs": [
    {
     "name": "stdout",
     "output_type": "stream",
     "text": [
      "System: You are an agent designed to interact with a SQL database.\n",
      "Given an input question, create a syntactically correct SQLite query to run, then look at the results of the query and return the answer.\n",
      "Unless the user specifies a specific number of examples they wish to obtain, always limit your query to at most 5 results.\n",
      "You can order the results by a relevant column to return the most interesting examples in the database.\n",
      "Never query for all the columns from a specific table, only ask for the relevant columns given the question.\n",
      "You have access to tools for interacting with the database.\n",
      "Only use the below tools. Only use the information returned by the below tools to construct your final answer.\n",
      "You MUST double check your query before executing it. If you get an error while executing a query, rewrite the query and try again.\n",
      "\n",
      "DO NOT make any DML statements (INSERT, UPDATE, DELETE, DROP etc.) to the database.\n",
      "\n",
      "To start you should ALWAYS look at the tables in the database to see what you can query.\n",
      "Do NOT skip this step.\n",
      "Then you should query the schema of the most relevant tables.\n"
     ]
    }
   ],
   "source": [
    "## Initialize agent\n",
    "from langgraph.prebuilt import create_react_agent\n",
    "from langchain import hub\n",
    "\n",
    "## Prompt template for SQL agent, which contains rules for generating required SQL queries\n",
    "prompt_template = hub.pull(\"langchain-ai/sql-agent-system-prompt\")\n",
    "system_message = prompt_template.format(dialect=\"SQLite\", top_k=5)\n",
    "print(system_message)\n",
    "\n",
    "agent_executor = create_react_agent(\n",
    "    model=openai_llm, tools=tools, state_modifier=system_message\n",
    ")"
   ]
  },
  {
   "cell_type": "code",
   "execution_count": 8,
   "metadata": {},
   "outputs": [
    {
     "name": "stdout",
     "output_type": "stream",
     "text": [
      "================================\u001b[1m Human Message \u001b[0m=================================\n",
      "\n",
      "\n",
      "You are working at an Australian financial institution and tasked to generate a report for end-of-day reporting.\n",
      "The report includes business intelligence as well as regulatory compliance information, linked to Australian Securities & Investment Commission (ASIC), which serves to provide clients with insights into their order activity for the day, \n",
      "and alert them to possible compliance issues with ASIC.\n",
      "\n",
      "Generate a trade summary for the end-of-day report. Take note that the ASIC fields are: \"OrderGiver\", \"OrderTakerUserCode\", \"IntermediaryID\", \"OriginOfOrder\", OrderCapacity\", DirectedWholesale\", \"ExecutionVenue\". The flow of the order summary report should be as followed:\n",
      "1. This should start off with an overview of Orders placed, the total volume, and the total value for the day. \n",
      "2. Break down the buy/sell orders for each security, highlighting the buy to sell counts for the top 3 securities. You can also add information for which sector it belongs to.\n",
      "3. Zoom into the ASIC reporting fields and provide a summary section of order statistics. For \"OrderGiver\", \"OrderTakerUserCode\", \"IntermediaryID\",\"OriginOfOrder\" fields, provide the top 3 which placed the most number of orders. Also provide the statistics for those with the lowest.\n",
      "4. In the next section will be business intelligence summary. Look at fields such as \"Lifetime\", \"Price Instruction\", \"SecCode\" and others, excluding the ASIC fields. Give a comprehensive overview and zoom into the details regarding trade statistics that will be useful to end-of-day reporting.\n",
      "...\n",
      "\n",
      "Based on the above instructions, extract and compile the necessary data from the orders table.\n",
      "\n",
      "==================================\u001b[1m Ai Message \u001b[0m==================================\n",
      "Tool Calls:\n",
      "  sql_db_list_tables (call_pmDXY2xIzw3jM3cjjV2czoOt)\n",
      " Call ID: call_pmDXY2xIzw3jM3cjjV2czoOt\n",
      "  Args:\n",
      "=================================\u001b[1m Tool Message \u001b[0m=================================\n",
      "Name: sql_db_list_tables\n",
      "\n",
      "orders\n",
      "==================================\u001b[1m Ai Message \u001b[0m==================================\n",
      "Tool Calls:\n",
      "  sql_db_schema (call_SDhW5udmcI2cgs8UNsEWhQLC)\n",
      " Call ID: call_SDhW5udmcI2cgs8UNsEWhQLC\n",
      "  Args:\n",
      "    table_names: orders\n",
      "=================================\u001b[1m Tool Message \u001b[0m=================================\n",
      "Name: sql_db_schema\n",
      "\n",
      "\n",
      "CREATE TABLE orders (\n",
      "\t\"Instance\" TEXT, \n",
      "\t\"OrderNo\" BIGINT, \n",
      "\t\"ParentOrderNo\" BIGINT, \n",
      "\t\"RootParentOrderNo\" BIGINT, \n",
      "\t\"CreateDate\" TEXT, \n",
      "\t\"DeleteDate\" TEXT, \n",
      "\t\"AccID\" BIGINT, \n",
      "\t\"AccCode\" TEXT, \n",
      "\t\"BuySell\" TEXT, \n",
      "\t\"Side\" BIGINT, \n",
      "\t\"OrderSide\" TEXT, \n",
      "\t\"SecID\" BIGINT, \n",
      "\t\"SecCode\" TEXT, \n",
      "\t\"Exchange\" TEXT, \n",
      "\t\"Destination\" TEXT, \n",
      "\t\"Quantity\" BIGINT, \n",
      "\t\"PriceMultiplier\" FLOAT, \n",
      "\t\"Price\" FLOAT, \n",
      "\t\"Value\" FLOAT, \n",
      "\t\"ValueMultiplier\" FLOAT, \n",
      "\t\"DoneVolume\" BIGINT, \n",
      "\t\"DoneValue\" FLOAT, \n",
      "\t\"Currency\" TEXT, \n",
      "\t\"OrderType\" BIGINT, \n",
      "\t\"PriceInstruction\" TEXT, \n",
      "\t\"TimeInForce\" BIGINT, \n",
      "\t\"Lifetime\" TEXT, \n",
      "\t\"ClientOrderID\" FLOAT, \n",
      "\t\"SecondaryClientOrderID\" FLOAT, \n",
      "\t\"DestOrderNo\" FLOAT, \n",
      "\t\"ExtDestOrderNo\" TEXT, \n",
      "\t\"DestUserID\" BIGINT, \n",
      "\t\"OrderGiver\" TEXT, \n",
      "\t\"OrderTakerUserCode\" TEXT, \n",
      "\t\"IntermediaryID\" FLOAT, \n",
      "\t\"OriginOfOrder\" TEXT, \n",
      "\t\"OrderCapacity\" TEXT, \n",
      "\t\"DirectedWholesale\" TEXT, \n",
      "\t\"ExecutionVenue\" FLOAT, \n",
      "\t\"ExecutionInstructionsRaw\" TEXT\n",
      ")\n",
      "\n",
      "/*\n",
      "3 rows from orders table:\n",
      "Instance\tOrderNo\tParentOrderNo\tRootParentOrderNo\tCreateDate\tDeleteDate\tAccID\tAccCode\tBuySell\tSide\tOrderSide\tSecID\tSecCode\tExchange\tDestination\tQuantity\tPriceMultiplier\tPrice\tValue\tValueMultiplier\tDoneVolume\tDoneValue\tCurrency\tOrderType\tPriceInstruction\tTimeInForce\tLifetime\tClientOrderID\tSecondaryClientOrderID\tDestOrderNo\tExtDestOrderNo\tDestUserID\tOrderGiver\tOrderTakerUserCode\tIntermediaryID\tOriginOfOrder\tOrderCapacity\tDirectedWholesale\tExecutionVenue\tExecutionInstructionsRaw\n",
      "BURGERKING\t72372283\t55096261\t468008605\t1/2/2024 13:07\t1/2/2024 16:32\t85\tROBBO\tB\t1\tBuy\t935559491\tBHP\tASX\tCXA\t15728\t0.01\t287.2676534\t4518145.652\t0.01\t7897\t2268552.659\tAUD\t4\tMarket On Close\t41\tGood Till Cancel\t0.693233102\t0.53851384\t4.16e+18\t27Y19YXOGV80\t4770\trobbotest\tadmin@IRETEST\t71423.78372\tROBTESTING\tPrincipal\tN\t0.148754854\tIADW(N), IOCA(Agency), IAOR(39)\n",
      "BURGERKING\t72371760\t46567211\t651932639\t1/2/2024 16:11\t1/2/2024 16:37\t144\tNOEL\tB\t1\tShort Sell\t553895436\tNXT\tASX\tCXA\t797\t0.01\t70.18433459\t55936.91466\t0.01\t310\t21757.14372\tAUD\t2\tLimit\t5\tGood Till Cancel\t0.079161151\t0.178619235\t4.19e+18\t27Y19YXOG7UF\t4468\trobtest\tadmin@ROBBOTEST\t12599.79466\t39\tAgency\tN\t0.934946988\tIAOR(ROBTESTING), IOCA(Agency), IADW(N), IAIN(123456)\n",
      "BURGERKING\t72375159\t32939774\t472062144\t1/2/2024 17:10\t1/2/2024 17:14\t85\tROBBO\tB\t2\tLong Sell\t139756048\tPEN\tAXW\tCXA\t13368\t0.01\t44.98629334\t601376.7693\t0.01\t8286\t372756.4266\tAUD\t2\tLimit\t7\tGood Till Time\t0.519067342\t0.516127949\t2.02e+18\t27Y19YXOG7UB\t4619\trobtest\tadmin@ROBBOTEST\t53707.63492\tNOEL\tPrincipal\tN\t0.889762618\tIAOR(TESTINGACC), IOCA(Agency), IADW(N)\n",
      "*/\n",
      "==================================\u001b[1m Ai Message \u001b[0m==================================\n",
      "Tool Calls:\n",
      "  sql_db_query (call_Ie3wgJTmBkU7bp8x7kgwWLLD)\n",
      " Call ID: call_Ie3wgJTmBkU7bp8x7kgwWLLD\n",
      "  Args:\n",
      "    query: SELECT COUNT(*) AS total_orders, SUM(Quantity) AS total_volume, SUM(Value) AS total_value FROM orders WHERE CreateDate LIKE '1/2/2024%';\n",
      "  sql_db_query (call_JE1tGxEQTarfOkDA2BSyF19t)\n",
      " Call ID: call_JE1tGxEQTarfOkDA2BSyF19t\n",
      "  Args:\n",
      "    query: SELECT SecCode, BuySell, COUNT(*) AS order_count, SUM(Quantity) AS total_volume FROM orders WHERE CreateDate LIKE '1/2/2024%' GROUP BY SecCode, BuySell ORDER BY order_count DESC LIMIT 3;\n",
      "  sql_db_query (call_3fBuuomXzbZNJfAonaubb0hx)\n",
      " Call ID: call_3fBuuomXzbZNJfAonaubb0hx\n",
      "  Args:\n",
      "    query: SELECT OrderGiver, COUNT(*) AS order_count FROM orders WHERE CreateDate LIKE '1/2/2024%' GROUP BY OrderGiver ORDER BY order_count DESC LIMIT 3;\n",
      "  sql_db_query (call_TC6vWouMr3YAm0TGlzuBuURJ)\n",
      " Call ID: call_TC6vWouMr3YAm0TGlzuBuURJ\n",
      "  Args:\n",
      "    query: SELECT OrderGiver, COUNT(*) AS order_count FROM orders WHERE CreateDate LIKE '1/2/2024%' GROUP BY OrderGiver ORDER BY order_count ASC LIMIT 3;\n",
      "  sql_db_query (call_LP1H8G5e3OY1buUmU1xKl7CB)\n",
      " Call ID: call_LP1H8G5e3OY1buUmU1xKl7CB\n",
      "  Args:\n",
      "    query: SELECT OrderTakerUserCode, COUNT(*) AS order_count FROM orders WHERE CreateDate LIKE '1/2/2024%' GROUP BY OrderTakerUserCode ORDER BY order_count DESC LIMIT 3;\n",
      "  sql_db_query (call_rV7d7hj79Dz5dntjZLRUMNgJ)\n",
      " Call ID: call_rV7d7hj79Dz5dntjZLRUMNgJ\n",
      "  Args:\n",
      "    query: SELECT OrderTakerUserCode, COUNT(*) AS order_count FROM orders WHERE CreateDate LIKE '1/2/2024%' GROUP BY OrderTakerUserCode ORDER BY order_count ASC LIMIT 3;\n",
      "  sql_db_query (call_0nsFVQA6g1X2VMCGDpTzexgW)\n",
      " Call ID: call_0nsFVQA6g1X2VMCGDpTzexgW\n",
      "  Args:\n",
      "    query: SELECT IntermediaryID, COUNT(*) AS order_count FROM orders WHERE CreateDate LIKE '1/2/2024%' GROUP BY IntermediaryID ORDER BY order_count DESC LIMIT 3;\n",
      "  sql_db_query (call_TlVjbAdmaL0KCzxdYZcV19Ku)\n",
      " Call ID: call_TlVjbAdmaL0KCzxdYZcV19Ku\n",
      "  Args:\n",
      "    query: SELECT IntermediaryID, COUNT(*) AS order_count FROM orders WHERE CreateDate LIKE '1/2/2024%' GROUP BY IntermediaryID ORDER BY order_count ASC LIMIT 3;\n",
      "  sql_db_query (call_F35wKv6y3gWKLRntyVFamzPT)\n",
      " Call ID: call_F35wKv6y3gWKLRntyVFamzPT\n",
      "  Args:\n",
      "    query: SELECT OriginOfOrder, COUNT(*) AS order_count FROM orders WHERE CreateDate LIKE '1/2/2024%' GROUP BY OriginOfOrder ORDER BY order_count DESC LIMIT 3;\n",
      "  sql_db_query (call_Yhy0Q7j0GHSuV0pha5FimP4d)\n",
      " Call ID: call_Yhy0Q7j0GHSuV0pha5FimP4d\n",
      "  Args:\n",
      "    query: SELECT OriginOfOrder, COUNT(*) AS order_count FROM orders WHERE CreateDate LIKE '1/2/2024%' GROUP BY OriginOfOrder ORDER BY order_count ASC LIMIT 3;\n",
      "  sql_db_query (call_rFrZLGDLVgFUWo2SO7skgH9a)\n",
      " Call ID: call_rFrZLGDLVgFUWo2SO7skgH9a\n",
      "  Args:\n",
      "    query: SELECT Lifetime, PriceInstruction, SecCode, COUNT(*) AS order_count, SUM(Quantity) AS total_volume FROM orders WHERE CreateDate LIKE '1/2/2024%' GROUP BY Lifetime, PriceInstruction, SecCode LIMIT 5;\n",
      "=================================\u001b[1m Tool Message \u001b[0m=================================\n",
      "Name: sql_db_query\n",
      "\n",
      "[('End of Day', 'Limit', 'ACDC', 68, 570725), ('End of Day', 'Limit', 'BHP', 54, 402120), ('End of Day', 'Limit', 'CBA', 76, 614401), ('End of Day', 'Limit', 'IRE', 61, 500556), ('End of Day', 'Limit', 'JBH', 53, 371927)]\n",
      "==================================\u001b[1m Ai Message \u001b[0m==================================\n",
      "\n",
      "Here's the trade summary for the end-of-day report based on the extracted data:\n",
      "\n",
      "### 1. Overview of Orders Placed\n",
      "- **Total Orders**: 5000\n",
      "- **Total Volume**: 40,769,413 units\n",
      "- **Total Value**: $8,058,226,882.62 AUD\n",
      "\n",
      "### 2. Breakdown of Buy/Sell Orders for Each Security\n",
      "- **Top 3 Securities**:\n",
      "  1. **CBA**: \n",
      "     - Type: Buy\n",
      "     - Orders: 342\n",
      "     - Volume: 2,949,152 units\n",
      "  2. **JBH**: \n",
      "     - Type: Sell\n",
      "     - Orders: 340\n",
      "     - Volume: 2,824,362 units\n",
      "  3. **ACDC**: \n",
      "     - Type: Sell\n",
      "     - Orders: 336\n",
      "     - Volume: 2,631,665 units\n",
      "\n",
      "### 3. ASIC Reporting Fields Summary\n",
      "- **Top 3 Order Givers**:\n",
      "  1. **robtest**: 2567 orders\n",
      "  2. **robbotest**: 2433 orders\n",
      "\n",
      "- **Lowest 3 Order Givers**:\n",
      "  1. **robbotest**: 2433 orders\n",
      "  2. **robtest**: 2567 orders\n",
      "\n",
      "- **Top 3 Order Taker User Codes**:\n",
      "  1. **admin@ROBBOTEST**: 2539 orders\n",
      "  2. **admin@IRETEST**: 2461 orders\n",
      "\n",
      "- **Lowest 3 Order Taker User Codes**:\n",
      "  1. **admin@IRETEST**: 2461 orders\n",
      "  2. **admin@ROBBOTEST**: 2539 orders\n",
      "\n",
      "- **Top 3 Intermediary IDs**:\n",
      "  1. **123449.0191**: 1 order\n",
      "  2. **123441.7125**: 1 order\n",
      "  3. **123440.2449**: 1 order\n",
      "\n",
      "- **Lowest 3 Intermediary IDs**:\n",
      "  1. **12389.20775**: 1 order\n",
      "  2. **12410.10541**: 1 order\n",
      "  3. **12411.7287**: 1 order\n",
      "\n",
      "- **Top 3 Origins of Order**:\n",
      "  1. **39**: 874 orders\n",
      "  2. **HK**: 835 orders\n",
      "  3. **ROBTESTING**: 832 orders\n",
      "\n",
      "- **Lowest 3 Origins of Order**:\n",
      "  1. **34976**: 816 orders\n",
      "  2. **NOEL**: 821 orders\n",
      "  3. **TESTINGACC**: 822 orders\n",
      "\n",
      "### 4. Business Intelligence Summary\n",
      "- **Trade Statistics**:\n",
      "  - **Example Entries**:\n",
      "    1. **Lifetime**: End of Day, **Price Instruction**: Limit, **SecCode**: ACDC, **Orders**: 68, **Volume**: 570,725 units\n",
      "    2. **Lifetime**: End of Day, **Price Instruction**: Limit, **SecCode**: BHP, **Orders**: 54, **Volume**: 402,120 units\n",
      "    3. **Lifetime**: End of Day, **Price Instruction**: Limit, **SecCode**: CBA, **Orders**: 76, **Volume**: 614,401 units\n",
      "    4. **Lifetime**: End of Day, **Price Instruction**: Limit, **SecCode**: IRE, **Orders**: 61, **Volume**: 500,556 units\n",
      "    5. **Lifetime**: End of Day, **Price Instruction**: Limit, **SecCode**: JBH, **Orders**: 53, **Volume**: 371,927 units\n",
      "\n",
      "This summary provides a comprehensive overview of the trading activities for the day, with particular attention to compliance and business intelligence metrics relevant to the Australian financial context.\n"
     ]
    }
   ],
   "source": [
    "## Testing out the SQL agent\n",
    "from utils import prompts\n",
    "\n",
    "# example_prompt = \"You are working for a financial institution. You are tasked with compliance reporting for the orders of the day. Identify anomalies and provide reasons they are suspicious.\"\n",
    "example_prompt = prompts.system_prompt + prompts.order_summary_prompt + \"\"\"\n",
    "Based on the above instructions, extract and compile the necessary data from the orders table.\n",
    "\"\"\"\n",
    "\n",
    "\n",
    "events = agent_executor.stream(\n",
    "    {\"messages\": [(\"user\", example_prompt)]},\n",
    "    stream_mode=\"values\",\n",
    ")\n",
    "for event in events:\n",
    "    curr_message = event[\"messages\"][-1]\n",
    "    curr_message.pretty_print()"
   ]
  },
  {
   "cell_type": "code",
   "execution_count": 9,
   "metadata": {},
   "outputs": [
    {
     "name": "stdout",
     "output_type": "stream",
     "text": [
      "content=\"Here's the trade summary for the end-of-day report based on the extracted data:\\n\\n### 1. Overview of Orders Placed\\n- **Total Orders**: 5000\\n- **Total Volume**: 40,769,413 units\\n- **Total Value**: $8,058,226,882.62 AUD\\n\\n### 2. Breakdown of Buy/Sell Orders for Each Security\\n- **Top 3 Securities**:\\n  1. **CBA**: \\n     - Type: Buy\\n     - Orders: 342\\n     - Volume: 2,949,152 units\\n  2. **JBH**: \\n     - Type: Sell\\n     - Orders: 340\\n     - Volume: 2,824,362 units\\n  3. **ACDC**: \\n     - Type: Sell\\n     - Orders: 336\\n     - Volume: 2,631,665 units\\n\\n### 3. ASIC Reporting Fields Summary\\n- **Top 3 Order Givers**:\\n  1. **robtest**: 2567 orders\\n  2. **robbotest**: 2433 orders\\n\\n- **Lowest 3 Order Givers**:\\n  1. **robbotest**: 2433 orders\\n  2. **robtest**: 2567 orders\\n\\n- **Top 3 Order Taker User Codes**:\\n  1. **admin@ROBBOTEST**: 2539 orders\\n  2. **admin@IRETEST**: 2461 orders\\n\\n- **Lowest 3 Order Taker User Codes**:\\n  1. **admin@IRETEST**: 2461 orders\\n  2. **admin@ROBBOTEST**: 2539 orders\\n\\n- **Top 3 Intermediary IDs**:\\n  1. **123449.0191**: 1 order\\n  2. **123441.7125**: 1 order\\n  3. **123440.2449**: 1 order\\n\\n- **Lowest 3 Intermediary IDs**:\\n  1. **12389.20775**: 1 order\\n  2. **12410.10541**: 1 order\\n  3. **12411.7287**: 1 order\\n\\n- **Top 3 Origins of Order**:\\n  1. **39**: 874 orders\\n  2. **HK**: 835 orders\\n  3. **ROBTESTING**: 832 orders\\n\\n- **Lowest 3 Origins of Order**:\\n  1. **34976**: 816 orders\\n  2. **NOEL**: 821 orders\\n  3. **TESTINGACC**: 822 orders\\n\\n### 4. Business Intelligence Summary\\n- **Trade Statistics**:\\n  - **Example Entries**:\\n    1. **Lifetime**: End of Day, **Price Instruction**: Limit, **SecCode**: ACDC, **Orders**: 68, **Volume**: 570,725 units\\n    2. **Lifetime**: End of Day, **Price Instruction**: Limit, **SecCode**: BHP, **Orders**: 54, **Volume**: 402,120 units\\n    3. **Lifetime**: End of Day, **Price Instruction**: Limit, **SecCode**: CBA, **Orders**: 76, **Volume**: 614,401 units\\n    4. **Lifetime**: End of Day, **Price Instruction**: Limit, **SecCode**: IRE, **Orders**: 61, **Volume**: 500,556 units\\n    5. **Lifetime**: End of Day, **Price Instruction**: Limit, **SecCode**: JBH, **Orders**: 53, **Volume**: 371,927 units\\n\\nThis summary provides a comprehensive overview of the trading activities for the day, with particular attention to compliance and business intelligence metrics relevant to the Australian financial context.\" additional_kwargs={'refusal': None} response_metadata={'token_usage': {'completion_tokens': 864, 'prompt_tokens': 2926, 'total_tokens': 3790, 'completion_tokens_details': {'reasoning_tokens': 0}, 'prompt_tokens_details': {'cached_tokens': 2432}}, 'model_name': 'gpt-4o-mini-2024-07-18', 'system_fingerprint': 'fp_f85bea6784', 'finish_reason': 'stop', 'logprobs': None} id='run-2b1f8677-8efa-4b00-a075-399a4b799114-0' usage_metadata={'input_tokens': 2926, 'output_tokens': 864, 'total_tokens': 3790}\n"
     ]
    }
   ],
   "source": [
    "print(curr_message)"
   ]
  },
  {
   "cell_type": "code",
   "execution_count": 21,
   "metadata": {},
   "outputs": [
    {
     "name": "stdout",
     "output_type": "stream",
     "text": [
      "Prompt: \n",
      " \n",
      "Below is an overview of a financial institution's orders for the day.\n",
      "Specifically, it is a sector-level breakdown.\n",
      "Please provide a short report of the data.\n",
      "Data:\n",
      "{'BHP': {'percentage_of_BHP_accounts_in_total_orders': 12.7, 'percentage_of_BHP_accounts_in_buy_orders': 12.95, 'percentage_of_BHP_accounts_in_sell_orders': 12.45}, 'NXT': {'percentage_of_NXT_accounts_in_total_orders': 12.02, 'percentage_of_NXT_accounts_in_buy_orders': 11.78, 'percentage_of_NXT_accounts_in_sell_orders': 12.25}, 'PEN': {'percentage_of_PEN_accounts_in_total_orders': 12.32, 'percentage_of_PEN_accounts_in_buy_orders': 12.63, 'percentage_of_PEN_accounts_in_sell_orders': 12.01}, 'CBA': {'percentage_of_CBA_accounts_in_total_orders': 13.28, 'percentage_of_CBA_accounts_in_buy_orders': 13.8, 'percentage_of_CBA_accounts_in_sell_orders': 12.77}, 'IRE': {'percentage_of_IRE_accounts_in_total_orders': 12.4, 'percentage_of_IRE_accounts_in_buy_orders': 12.83, 'percentage_of_IRE_accounts_in_sell_orders': 11.97}, 'JBH': {'percentage_of_JBH_accounts_in_total_orders': 12.46, 'percentage_of_JBH_accounts_in_buy_orders': 11.42, 'percentage_of_JBH_accounts_in_sell_orders': 13.48}, 'SIG': {'percentage_of_SIG_accounts_in_total_orders': 11.94, 'percentage_of_SIG_accounts_in_buy_orders': 12.15, 'percentage_of_SIG_accounts_in_sell_orders': 11.74}, 'ACDC': {'percentage_of_ACDC_accounts_in_total_orders': 12.88, 'percentage_of_ACDC_accounts_in_buy_orders': 12.43, 'percentage_of_ACDC_accounts_in_sell_orders': 13.32}}\n",
      "### Daily Orders Overview Report\n",
      "\n",
      "This report presents the sector-level breakdown of orders processed by the financial institution for the day. The data provides insights into the distribution of orders across various accounts, including both buy and sell orders.\n",
      "\n",
      "#### Summary of Accounts\n",
      "\n",
      "1. **BHP**\n",
      "   - Total Orders: 12.7%\n",
      "   - Buy Orders: 12.95%\n",
      "   - Sell Orders: 12.45%\n",
      "   \n",
      "2. **NXT**\n",
      "   - Total Orders: 12.02%\n",
      "   - Buy Orders: 11.78%\n",
      "   - Sell Orders: 12.25%\n",
      "   \n",
      "3. **PEN**\n",
      "   - Total Orders: 12.32%\n",
      "   - Buy Orders: 12.63%\n",
      "   - Sell Orders: 12.01%\n",
      "   \n",
      "4. **CBA**\n",
      "   - Total Orders: 13.28%\n",
      "   - Buy Orders: 13.8%\n",
      "   - Sell Orders: 12.77%\n",
      "   \n",
      "5. **IRE**\n",
      "   - Total Orders: 12.4%\n",
      "   - Buy Orders: 12.83%\n",
      "   - Sell Orders: 11.97%\n",
      "   \n",
      "6. **JBH**\n",
      "   - Total Orders: 12.46%\n",
      "   - Buy Orders: 11.42%\n",
      "   - Sell Orders: 13.48%\n",
      "   \n",
      "7. **SIG**\n",
      "   - Total Orders: 11.94%\n",
      "   - Buy Orders: 12.15%\n",
      "   - Sell Orders: 11.74%\n",
      "   \n",
      "8. **ACDC**\n",
      "   - Total Orders: 12.88%\n",
      "   - Buy Orders: 12.43%\n",
      "   - Sell Orders: 13.32%\n",
      "\n",
      "#### Insights\n",
      "\n",
      "- **Most Active Account**: CBA accounts for the highest percentage of total orders at 13.28%, indicating it is the most actively traded account for the day.\n",
      "- **Buy vs. Sell Orders**: \n",
      "  - CBA also leads in buy orders at 13.8%, suggesting strong buying interest.\n",
      "  - JBH has the highest sell order percentage at 13.48%, indicating a potential strategy shift or profit-taking behavior among investors.\n",
      "- **Overall Distribution**: The percentages across accounts for total orders are relatively similar, ranging from a low of 11.94% (SIG) to a high of 13.28% (CBA), suggesting a balanced distribution of trading activity among the various accounts.\n",
      "\n",
      "This overview provides a snapshot of the trading dynamics within the financial institution, revealing key trends in both buy and sell orders across different accounts. Further analysis may be warranted to understand the implications of these trends on market behavior and investor sentiment.\n"
     ]
    }
   ],
   "source": [
    "## Test if LLM can interpret calculated metrics\n",
    "from langchain_core.output_parsers import StrOutputParser\n",
    "\n",
    "metrics_prompt = \"\"\"\n",
    "Below is an overview of a financial institution's orders for the day.\n",
    "Specifically, it is a sector-level breakdown.\n",
    "Please provide a short report of the data.\n",
    "Data:\n",
    "\"\"\"\n",
    "# bi2_sector['BHP']['average_historical']['number_of_buy_orders'] = 500\n",
    "# bi2_sector['BHP']['average_historical']['percentage_of_buy_orders'] = 70\n",
    "# bi2_sector['BHP']['percentage_difference']['in_number_of_buy_orders'] = 30.5\n",
    "# bi2_sector['BHP']['percentage_difference']['in_percentage_of_buy_orders'] = 30.5\n",
    "metrics_prompt = metrics_prompt + str(bi7_sankey_diagram)\n",
    "print(\"Prompt: \\n\", metrics_prompt)\n",
    "\n",
    "output = openai_llm.invoke(metrics_prompt)\n",
    "print(StrOutputParser().parse(output.content))"
   ]
  },
  {
   "cell_type": "markdown",
   "metadata": {},
   "source": [
    "Chain: SQL agent --> Report generator LLM"
   ]
  },
  {
   "cell_type": "code",
   "execution_count": null,
   "metadata": {},
   "outputs": [],
   "source": [
    "## Initialize SQL agent\n",
    "## Imports\n",
    "from langchain_core.prompts import PromptTemplate\n",
    "from langchain_core.runnables import RunnableLambda\n",
    "\n",
    "## Prompt template for SQL agent, which contains rules for generating required SQL queries\n",
    "sql_prompt_template = hub.pull(\"langchain-ai/sql-agent-system-prompt\")\n",
    "sql_system_message = prompt_template.format(dialect=\"SQLite\", top_k=5)\n",
    "\n",
    "## Configure agent\n",
    "openai_llm = ChatOpenAI(model=\"gpt-4o-mini\", api_key=os.environ['OPENAI_API_KEY'])\n",
    "db = SQLDatabase.from_uri(f\"sqlite:///{sqlite_db_path}\")\n",
    "toolkit = SQLDatabaseToolkit(db=db, llm=openai_llm)\n",
    "tools = toolkit.get_tools()\n",
    "agent_executor = create_react_agent(\n",
    "    model=openai_llm, tools=tools, state_modifier=sql_system_message\n",
    ")\n",
    "\n",
    "## Helper functions to format agent input and output\n",
    "##TODO: Replace with Langchain parses and ResponseSchemas\n",
    "agent_input_helper = RunnableLambda(lambda x: {\"messages\": x.text})\n",
    "agent_output_parser = RunnableLambda(lambda x: x[\"messages\"][-1].content)\n",
    "\n",
    "## Prompt template to specify required metrics\n",
    "required_insights = \"\"\"\n",
    "    total orders placed, total volume, total value of order, breakdown of buy sell for each sector, most frequently ordered sectors, trades created over time, \n",
    "    ratio of order capacity, order lifetime breakdown, price instruction breakdown\n",
    "\"\"\"\n",
    "insight_prompt = PromptTemplate.from_template(\"From the order data, provide the following insights: {insights}\")\n",
    "\n",
    "## Construct SQL chain\n",
    "sql_chain = insight_prompt | agent_input_helper | agent_executor | agent_output_parser\n",
    "\n",
    "## Testing\n",
    "result = sql_chain.invoke({\"insights\": required_insights})\n",
    "print(type(result))\n",
    "print(result)"
   ]
  },
  {
   "cell_type": "code",
   "execution_count": null,
   "metadata": {},
   "outputs": [],
   "source": [
    "## Initialize report generator LLM\n",
    "## Imports\n",
    "from langchain_core.output_parsers import StrOutputParser\n",
    "\n",
    "## Configure model\n",
    "openai_llm = ChatOpenAI(model=\"gpt-4o-mini\", temperature=1, api_key=os.environ['OPENAI_API_KEY'])\n",
    "\n",
    "## Prompt template with sample report\n",
    "template = \"\"\"\n",
    "    You are working at a financial institution and are responsible for end of day reporting.\n",
    "    Given the insights, generate a report. You may use the following example: \n",
    "    {sample_report}\n",
    "    Write a report based on these insights:\n",
    "    {insights}\n",
    "\"\"\"\n",
    "report_prompt = PromptTemplate(\n",
    "    input_variables=[\"sample_report\", \"insights\"],\n",
    "    template=template\n",
    ")\n",
    "\n",
    "## Sample report\n",
    "sample_report = \"\"\"\n",
    "    Today, the firm processed a total of 250 orders across multiple sectors, with a combined order volume of 1.5 million shares and an order value of $75 million. Of these, 60% were buy orders, with the remaining 40% being sell orders. The majority of buy orders were concentrated in the Technology and Healthcare sectors, representing approximately 55% of the total order volume, reflecting a continued focus on growth-oriented stocks. Sell orders were predominantly in the Energy and Consumer Goods sectors, reflecting a shift in market sentiment toward risk aversion in those industries.\n",
    "\n",
    "    The firm handled orders in both agency and principal capacities, with 70% of the trades executed in an agency capacity, ensuring that clients’ interests were prioritized. The remaining 30% were principal trades, where the firm acted as the counterparty. A significant portion of the orders (around 65%) had a short lifetime, executed within the first two hours of placement, indicating high market activity and a swift decision-making process among clients.\n",
    "\n",
    "    In terms of price instructions, the majority of orders (75%) were executed using limit price instructions, with clients specifying the maximum or minimum prices at which they were willing to trade. The remaining 25% followed market-on-close instructions, aiming to execute trades at the day’s closing price.\n",
    "\n",
    "    Overall, today’s trading activity was characterized by increased demand in growth sectors, with careful execution through predominantly limit orders and short lifetimes, ensuring optimal timing and price conditions for clients.\n",
    "\"\"\"\n",
    "\n",
    "## Construct report chain\n",
    "report_chain = report_prompt | openai_llm | StrOutputParser()\n",
    "\n",
    "## Testing\n",
    "##TODO: Find a way to pass the SQL insights to the report chain\n",
    "report = report_chain.invoke({\"sample_report\": sample_report, \"insights\": result})\n",
    "print(report)\n"
   ]
  },
  {
   "cell_type": "code",
   "execution_count": null,
   "metadata": {},
   "outputs": [],
   "source": [
    "## Construct chain"
   ]
  },
  {
   "cell_type": "markdown",
   "metadata": {},
   "source": [
    "Experiment with memory / persistence"
   ]
  },
  {
   "cell_type": "code",
   "execution_count": 8,
   "metadata": {},
   "outputs": [],
   "source": [
    "from langchain_core.messages import HumanMessage\n",
    "from langgraph.checkpoint.memory import MemorySaver\n",
    "from langgraph.graph import START, MessagesState, StateGraph\n",
    "\n",
    "## Define a new graph\n",
    "workflow = StateGraph(state_schema=MessagesState)\n",
    "\n",
    "## Configure LLM\n",
    "openai_llm = ChatOpenAI(model=\"gpt-4o-mini\", api_key=os.environ['OPENAI_API_KEY'])\n",
    "\n",
    "# Define the function that calls the model\n",
    "def call_model(state: MessagesState):\n",
    "    response = openai_llm.invoke(state[\"messages\"])\n",
    "    ## Update message history with response:\n",
    "    return {\"messages\": response}\n",
    "\n",
    "\n",
    "## Define the (single) node in the graph\n",
    "workflow.add_edge(START, \"model\")\n",
    "workflow.add_node(\"model\", call_model)\n",
    "\n",
    "## Add memory\n",
    "memory = MemorySaver()\n",
    "app = workflow.compile(checkpointer=memory)"
   ]
  },
  {
   "cell_type": "code",
   "execution_count": 9,
   "metadata": {},
   "outputs": [
    {
     "name": "stdout",
     "output_type": "stream",
     "text": [
      "==================================\u001b[1m Ai Message \u001b[0m==================================\n",
      "\n",
      "Hi Bob! Those are some great interests! Basketball is an exciting sport, theatre is a wonderful way to express creativity, and coding opens up a lot of possibilities in today’s tech-driven world. Do you have a favorite basketball team, a specific type of theatre you enjoy, or a coding project you're currently working on?\n"
     ]
    }
   ],
   "source": [
    "config = {\"configurable\": {\"thread_id\": \"abc123\"}}\n",
    "query_1 = \"Hi! I'm Bob. I was born in 2002.\"\n",
    "query_2 = \"I love basketball, theatre, and coding.\"\n",
    "\n",
    "input_messages = [HumanMessage(query_1), HumanMessage(query_2)]\n",
    "output = app.invoke({\"messages\": input_messages}, config)\n",
    "output[\"messages\"][-1].pretty_print()  # output contains all messages in state"
   ]
  },
  {
   "cell_type": "code",
   "execution_count": 10,
   "metadata": {},
   "outputs": [
    {
     "name": "stdout",
     "output_type": "stream",
     "text": [
      "================================\u001b[1m Human Message \u001b[0m=================================\n",
      "\n",
      "Hi! I'm Bob. I was born in 2002.\n",
      "================================\u001b[1m Human Message \u001b[0m=================================\n",
      "\n",
      "I love basketball, theatre, and coding.\n",
      "==================================\u001b[1m Ai Message \u001b[0m==================================\n",
      "\n",
      "Hi Bob! Those are some great interests! Basketball is an exciting sport, theatre is a wonderful way to express creativity, and coding opens up a lot of possibilities in today’s tech-driven world. Do you have a favorite basketball team, a specific type of theatre you enjoy, or a coding project you're currently working on?\n"
     ]
    }
   ],
   "source": [
    "state = app.get_state(config).values\n",
    "\n",
    "for message in state[\"messages\"]:\n",
    "    message.pretty_print()"
   ]
  },
  {
   "cell_type": "code",
   "execution_count": 12,
   "metadata": {},
   "outputs": [
    {
     "name": "stdout",
     "output_type": "stream",
     "text": [
      "==================================\u001b[1m Ai Message \u001b[0m==================================\n",
      "\n",
      "Absolutely! Here’s a tailored dating app profile for you:\n",
      "\n",
      "---\n",
      "\n",
      "**Profile Name:** Bob, 21\n",
      "\n",
      "**About Me:**\n",
      "Hey! I'm Bob, a 21-year-old who loves the thrill of basketball, the magic of theatre, and the creativity of coding. I believe life should be a mix of fun and passion, whether it's shooting hoops with friends, performing on stage, or building something cool with code. \n",
      "\n",
      "**Interests:**\n",
      "- 🏀 Basketball fanatic\n",
      "- 🎭 Theatre lover (always up for a good show!)\n",
      "- 💻 Aspiring coder (let’s hack together!)\n",
      "- 🎶 Music enthusiast (from hip-hop to classical)\n",
      "- 🌍 Travel junkie (next stop: wherever the adventure takes me)\n",
      "\n",
      "**Looking For:**\n",
      "I’m looking to meet someone who’s adventurous, creative, and has a good sense of humor. If you enjoy deep conversations, spontaneous outings, or just chilling with a good movie, let’s connect!\n",
      "\n",
      "**Fun Fact:**\n",
      "I once directed a short play and ended up loving it even more than performing! \n",
      "\n",
      "---\n",
      "\n",
      "Feel free to tweak any part of this profile to make it feel more like you!\n"
     ]
    }
   ],
   "source": [
    "output = app.invoke({\"messages\": [HumanMessage(\"Help me created a profile for a dating app.\")]}, config)\n",
    "output[\"messages\"][-1].pretty_print()"
   ]
  },
  {
   "cell_type": "markdown",
   "metadata": {},
   "source": [
    "Output to PDF"
   ]
  },
  {
   "cell_type": "code",
   "execution_count": null,
   "metadata": {},
   "outputs": [],
   "source": [
    " "
   ]
  }
 ],
 "metadata": {
  "kernelspec": {
   "display_name": "llm_langchain",
   "language": "python",
   "name": "python3"
  },
  "language_info": {
   "codemirror_mode": {
    "name": "ipython",
    "version": 3
   },
   "file_extension": ".py",
   "mimetype": "text/x-python",
   "name": "python",
   "nbconvert_exporter": "python",
   "pygments_lexer": "ipython3",
   "version": "3.11.7"
  }
 },
 "nbformat": 4,
 "nbformat_minor": 2
}
