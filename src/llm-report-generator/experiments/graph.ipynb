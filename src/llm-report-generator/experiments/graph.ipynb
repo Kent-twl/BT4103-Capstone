{
 "cells": [
  {
   "cell_type": "code",
   "execution_count": 10,
   "metadata": {},
   "outputs": [],
   "source": [
    "## Imports\n",
    "## System imports\n",
    "import os\n",
    "import sys\n",
    "\n",
    "## Add root directory to path\n",
    "sys.path.append(os.path.abspath(os.path.join(os.getcwd(), \"../\")))\n",
    "\n",
    "## LangChain\n",
    "from langchain_groq import ChatGroq\n",
    "from langchain_openai import ChatOpenAI\n",
    "from langchain_core.output_parsers import StrOutputParser\n",
    "from langchain_core.prompts import PromptTemplate\n",
    "from langgraph.graph import StateGraph, START, END\n",
    "from langgraph.graph.message import add_messages\n",
    "from langchain_core.messages import HumanMessage\n",
    "from langgraph.checkpoint.memory import MemorySaver\n",
    "\n",
    "## Python packages\n",
    "import pandas as pd\n",
    "from dotenv import load_dotenv\n",
    "from datetime import datetime\n",
    "from pprint import pprint\n",
    "from typing import Annotated\n",
    "from typing_extensions import TypedDict\n",
    "from IPython.display import Image, display\n",
    "\n",
    "## Self-defined modules\n",
    "from utils import calculations, prompts"
   ]
  },
  {
   "cell_type": "code",
   "execution_count": 3,
   "metadata": {},
   "outputs": [],
   "source": [
    "load_dotenv()\n",
    "assert os.environ[\"LANGCHAIN_API_KEY\"], \"Please set the LANGCHAIN_API_KEY environment variable\"\n",
    "assert os.environ[\"GROQ_API_KEY\"], \"Please set the GROQ_API_KEY environment variable\"\n",
    "assert os.environ[\"OPENAI_API_KEY\"], \"Please set the OPENAI_API_KEY environment variable\""
   ]
  },
  {
   "cell_type": "code",
   "execution_count": 22,
   "metadata": {},
   "outputs": [],
   "source": [
    "## Creating graph\n",
    "\n",
    "class State(TypedDict):\n",
    "    ## Messages have the type \"list\"\n",
    "    ## The add_mesasges function in the annotation defines how this state key should be updated\n",
    "    ## ie. it appends messages to the list, rather than overwriting it\n",
    "    messages: Annotated[list, add_messages]\n",
    "\n",
    "\n",
    "graph_builder = StateGraph(State)\n",
    "\n",
    "## Add LLM node to graph\n",
    "openai_llm = ChatOpenAI(model=\"gpt-3.5-turbo\", api_key=os.environ[\"OPENAI_API_KEY\"], )\n",
    "\n",
    "def generator(state: State):\n",
    "    return {\"messages\": [openai_llm.invoke(state[\"messages\"])]}\n",
    "\n",
    "graph_builder.add_node(\"generator\", generator) ## Node name, function to be called\n",
    "\n",
    "## Add edges\n",
    "graph_builder.add_edge(START, \"generator\")\n",
    "graph_builder.add_edge(\"generator\", END)\n",
    "\n",
    "graph = graph_builder.compile()"
   ]
  },
  {
   "cell_type": "code",
   "execution_count": 23,
   "metadata": {},
   "outputs": [
    {
     "data": {
      "image/jpeg": "[encoded data removed]",
      "text/plain": [
       "<IPython.core.display.Image object>"
      ]
     },
     "metadata": {},
     "output_type": "display_data"
    }
   ],
   "source": [
    "## Visualize graph\n",
    "def draw_graph(graph):\n",
    "    try:\n",
    "        display(Image(graph.get_graph().draw_mermaid_png()))\n",
    "    except:\n",
    "        print(\"Error displaying graph\")\n",
    "\n",
    "draw_graph(graph)"
   ]
  },
  {
   "cell_type": "code",
   "execution_count": 25,
   "metadata": {},
   "outputs": [
    {
     "name": "stdout",
     "output_type": "stream",
     "text": [
      "LLM: There are many incredible places around the world that are perfect for nature lovers, but some of the best include:\n",
      "\n",
      "1. Yellowstone National Park in the United States: Known for its geothermal features, wildlife, and stunning landscapes, Yellowstone is a must-visit for nature enthusiasts.\n",
      "\n",
      "2. Banff National Park in Canada: This beautiful national park in the Canadian Rockies offers breathtaking mountain scenery, crystal-clear lakes, and abundant wildlife.\n",
      "\n",
      "3. The Amazon Rainforest in South America: The Amazon is the largest tropical rainforest in the world and is home to an incredible array of plant and animal species.\n",
      "\n",
      "4. The Serengeti National Park in Tanzania: This iconic African safari destination is known for its vast savannahs, diverse wildlife, and the annual wildebeest migration.\n",
      "\n",
      "5. The Great Barrier Reef in Australia: This UNESCO World Heritage Site is the largest coral reef system in the world and offers amazing opportunities for snorkeling and diving.\n",
      "\n",
      "Ultimately, the best place to visit for nature lovers will depend on personal preferences and interests.\n",
      "None\n"
     ]
    }
   ],
   "source": [
    "## Run the graph\n",
    "def stream_graph_updates(graph, user_input: str):\n",
    "    for event in graph.stream({\"messages\": [(\"user\", user_input)]}):\n",
    "        for value in event.values():\n",
    "            print(\"LLM:\", value[\"messages\"][-1].content)\n",
    "\n",
    "example_input = \"What is the best place to visit for nature lovers?\"\n",
    "\n",
    "pprint(stream_graph_updates(graph, example_input))"
   ]
  },
  {
   "cell_type": "code",
   "execution_count": 35,
   "metadata": {},
   "outputs": [
    {
     "name": "stdout",
     "output_type": "stream",
     "text": [
      "================================\u001b[1m Human Message \u001b[0m=================================\n",
      "\n",
      "I love going on nature walks\n",
      "==================================\u001b[1m Ai Message \u001b[0m==================================\n",
      "\n",
      "and soaking in the beauty of the great outdoors. The fresh air, the sound of birds chirping, and the sight of lush greenery all around me bring me a sense of peace and tranquility. I enjoy taking in the sights and sounds of nature, whether it's a leisurely stroll through a park or a more challenging hike through the mountains. Nature walks are a great way for me to clear my mind, de-stress, and reconnect with the natural world. There's something about being surrounded by nature that rejuvenates my soul and fills me with a sense of wonder and awe. I always come back from a nature walk feeling refreshed, inspired, and grateful for the beauty that surrounds us.\n",
      "================================\u001b[1m Human Message \u001b[0m=================================\n",
      "\n",
      "Where do you recommend I visit?\n",
      "==================================\u001b[1m Ai Message \u001b[0m==================================\n",
      "\n",
      "There are so many beautiful places in the world to visit for nature walks, it's hard to choose just one! Some popular destinations for nature walks include:\n",
      "\n",
      "1. National Parks: The United States is home to numerous national parks that offer stunning natural landscapes and great hiking trails. Some popular national parks for nature walks include Yellowstone National Park, Yosemite National Park, and Great Smoky Mountains National Park.\n",
      "\n",
      "2. Forests: Forests are great places to go for nature walks, with their dense trees, peaceful atmosphere, and diverse wildlife. Consider visiting the Black Forest in Germany, the Amazon Rainforest in South America, or the Redwood National and State Parks in California.\n",
      "\n",
      "3. Coastal Trails: Walking along the coast can be a truly magical experience, with the sound of crashing waves and the salty sea breeze in the air. Consider visiting the Cinque Terre in Italy, the Cliffs of Moher in Ireland, or the Great Ocean Road in Australia for some breathtaking coastal walks.\n",
      "\n",
      "4. Mountain Ranges: If you enjoy more challenging hikes and stunning mountain views, consider visiting mountain ranges like the Swiss Alps, the Rocky Mountains in North America, or the Himalayas in Asia.\n",
      "\n",
      "No matter where you choose to go for a nature walk, make sure to respect the environment, stay safe, and take time to appreciate the beauty of the natural world around you.\n"
     ]
    }
   ],
   "source": [
    "## Adding memory\n",
    "memory = MemorySaver()\n",
    "graph_with_memory = graph_builder.compile(checkpointer=memory)\n",
    "\n",
    "## Run the graph\n",
    "config_1 = {\"configurable\": {\"thread_id\": \"1\"}}\n",
    "\n",
    "def stream_graph_memory(graph, user_input: str, config):\n",
    "    events = graph.stream({\"messages\": [(\"user\", user_input)]}, config=config, stream_mode=\"values\")\n",
    "    for event in events:\n",
    "        event[\"messages\"][-1].pretty_print()\n",
    "\n",
    "stream_graph_memory(graph_with_memory, \"I love going on nature walks\", config_1)\n",
    "stream_graph_memory(graph_with_memory, \"Where do you recommend I visit?\", config_1)"
   ]
  },
  {
   "cell_type": "code",
   "execution_count": 36,
   "metadata": {},
   "outputs": [
    {
     "name": "stdout",
     "output_type": "stream",
     "text": [
      "================================\u001b[1m Human Message \u001b[0m=================================\n",
      "\n",
      "I love eating Japanese food\n",
      "==================================\u001b[1m Ai Message \u001b[0m==================================\n",
      "\n",
      "! It's so delicious and flavorful. Some of my favorite dishes include sushi, ramen, tempura, and teriyaki. The combination of fresh ingredients and unique flavors always leaves me feeling satisfied. Plus, the presentation of Japanese food is always so beautiful and artistic. I could eat Japanese food every day and never get tired of it!\n",
      "================================\u001b[1m Human Message \u001b[0m=================================\n",
      "\n",
      "Where do you recommend I visit?\n",
      "==================================\u001b[1m Ai Message \u001b[0m==================================\n",
      "\n",
      "If you're looking to try authentic Japanese cuisine, I highly recommend visiting Japan itself. Tokyo, Kyoto, and Osaka are known for their amazing food scene, with countless restaurants offering traditional dishes and modern twists on classic favorites. In Tokyo, you can visit Tsukiji Fish Market for the freshest sushi and seafood, while Kyoto is famous for its kaiseki cuisine, a multi-course meal showcasing seasonal ingredients. Osaka is known for its street food, including takoyaki (octopus balls) and okonomiyaki (savory pancakes).\n",
      "\n",
      "If traveling to Japan is not possible, you can also check out local Japanese restaurants in your area. Many cities around the world have Japanese communities and restaurants that offer authentic dishes. Just be sure to read reviews and ask for recommendations to find the best spots for delicious Japanese food. Enjoy your culinary journey!\n"
     ]
    }
   ],
   "source": [
    "## Use another thread\n",
    "config_2 = {\"configurable\": {\"thread_id\": \"2\"}}\n",
    "\n",
    "stream_graph_memory(graph_with_memory, \"I love eating Japanese food\", config_2)\n",
    "stream_graph_memory(graph_with_memory, \"Where do you recommend I visit?\", config_2)"
   ]
  },
  {
   "cell_type": "code",
   "execution_count": 37,
   "metadata": {},
   "outputs": [
    {
     "name": "stdout",
     "output_type": "stream",
     "text": [
      "Thread 1:  StateSnapshot(values={'messages': [HumanMessage(content='I love going on nature walks', additional_kwargs={}, response_metadata={}, id='b72d465c-8d23-475a-93af-558df99c40de'), AIMessage(content=\"and soaking in the beauty of the great outdoors. The fresh air, the sound of birds chirping, and the sight of lush greenery all around me bring me a sense of peace and tranquility. I enjoy taking in the sights and sounds of nature, whether it's a leisurely stroll through a park or a more challenging hike through the mountains. Nature walks are a great way for me to clear my mind, de-stress, and reconnect with the natural world. There's something about being surrounded by nature that rejuvenates my soul and fills me with a sense of wonder and awe. I always come back from a nature walk feeling refreshed, inspired, and grateful for the beauty that surrounds us.\", additional_kwargs={'refusal': None}, response_metadata={'token_usage': {'completion_tokens': 141, 'prompt_tokens': 13, 'total_tokens': 154, 'completion_tokens_details': {'reasoning_tokens': 0}, 'prompt_tokens_details': {'cached_tokens': 0}}, 'model_name': 'gpt-3.5-turbo-0125', 'system_fingerprint': None, 'finish_reason': 'stop', 'logprobs': None}, id='run-bce9b710-bd6a-422f-8e3b-fb96a2e09e3a-0', usage_metadata={'input_tokens': 13, 'output_tokens': 141, 'total_tokens': 154}), HumanMessage(content='Where do you recommend I visit?', additional_kwargs={}, response_metadata={}, id='ce7d8d4c-8b9e-4e40-89e2-7ba62526f0f9'), AIMessage(content=\"There are so many beautiful places in the world to visit for nature walks, it's hard to choose just one! Some popular destinations for nature walks include:\\n\\n1. National Parks: The United States is home to numerous national parks that offer stunning natural landscapes and great hiking trails. Some popular national parks for nature walks include Yellowstone National Park, Yosemite National Park, and Great Smoky Mountains National Park.\\n\\n2. Forests: Forests are great places to go for nature walks, with their dense trees, peaceful atmosphere, and diverse wildlife. Consider visiting the Black Forest in Germany, the Amazon Rainforest in South America, or the Redwood National and State Parks in California.\\n\\n3. Coastal Trails: Walking along the coast can be a truly magical experience, with the sound of crashing waves and the salty sea breeze in the air. Consider visiting the Cinque Terre in Italy, the Cliffs of Moher in Ireland, or the Great Ocean Road in Australia for some breathtaking coastal walks.\\n\\n4. Mountain Ranges: If you enjoy more challenging hikes and stunning mountain views, consider visiting mountain ranges like the Swiss Alps, the Rocky Mountains in North America, or the Himalayas in Asia.\\n\\nNo matter where you choose to go for a nature walk, make sure to respect the environment, stay safe, and take time to appreciate the beauty of the natural world around you.\", additional_kwargs={'refusal': None}, response_metadata={'token_usage': {'completion_tokens': 273, 'prompt_tokens': 169, 'total_tokens': 442, 'completion_tokens_details': {'reasoning_tokens': 0}, 'prompt_tokens_details': {'cached_tokens': 0}}, 'model_name': 'gpt-3.5-turbo-0125', 'system_fingerprint': None, 'finish_reason': 'stop', 'logprobs': None}, id='run-56182d86-3bc4-4cad-a1a4-b1a586ca4882-0', usage_metadata={'input_tokens': 169, 'output_tokens': 273, 'total_tokens': 442})]}, next=(), config={'configurable': {'thread_id': '1', 'checkpoint_ns': '', 'checkpoint_id': '1ef8abfe-b3ac-65ef-8004-c13b03df20a5'}}, metadata={'source': 'loop', 'writes': {'generator': {'messages': [AIMessage(content=\"There are so many beautiful places in the world to visit for nature walks, it's hard to choose just one! Some popular destinations for nature walks include:\\n\\n1. National Parks: The United States is home to numerous national parks that offer stunning natural landscapes and great hiking trails. Some popular national parks for nature walks include Yellowstone National Park, Yosemite National Park, and Great Smoky Mountains National Park.\\n\\n2. Forests: Forests are great places to go for nature walks, with their dense trees, peaceful atmosphere, and diverse wildlife. Consider visiting the Black Forest in Germany, the Amazon Rainforest in South America, or the Redwood National and State Parks in California.\\n\\n3. Coastal Trails: Walking along the coast can be a truly magical experience, with the sound of crashing waves and the salty sea breeze in the air. Consider visiting the Cinque Terre in Italy, the Cliffs of Moher in Ireland, or the Great Ocean Road in Australia for some breathtaking coastal walks.\\n\\n4. Mountain Ranges: If you enjoy more challenging hikes and stunning mountain views, consider visiting mountain ranges like the Swiss Alps, the Rocky Mountains in North America, or the Himalayas in Asia.\\n\\nNo matter where you choose to go for a nature walk, make sure to respect the environment, stay safe, and take time to appreciate the beauty of the natural world around you.\", additional_kwargs={'refusal': None}, response_metadata={'token_usage': {'completion_tokens': 273, 'prompt_tokens': 169, 'total_tokens': 442, 'completion_tokens_details': {'reasoning_tokens': 0}, 'prompt_tokens_details': {'cached_tokens': 0}}, 'model_name': 'gpt-3.5-turbo-0125', 'system_fingerprint': None, 'finish_reason': 'stop', 'logprobs': None}, id='run-56182d86-3bc4-4cad-a1a4-b1a586ca4882-0', usage_metadata={'input_tokens': 169, 'output_tokens': 273, 'total_tokens': 442})]}}, 'step': 4, 'parents': {}}, created_at='2024-10-15T06:37:16.165886+00:00', parent_config={'configurable': {'thread_id': '1', 'checkpoint_ns': '', 'checkpoint_id': '1ef8abfe-89eb-6548-8003-eb807896a3ec'}}, tasks=())\n",
      "Thread 2:  StateSnapshot(values={'messages': [HumanMessage(content='I love eating Japanese food', additional_kwargs={}, response_metadata={}, id='4f71d4b8-b31d-48bc-bd9b-4046c3a2aa66'), AIMessage(content=\"! It's so delicious and flavorful. Some of my favorite dishes include sushi, ramen, tempura, and teriyaki. The combination of fresh ingredients and unique flavors always leaves me feeling satisfied. Plus, the presentation of Japanese food is always so beautiful and artistic. I could eat Japanese food every day and never get tired of it!\", additional_kwargs={'refusal': None}, response_metadata={'token_usage': {'completion_tokens': 69, 'prompt_tokens': 12, 'total_tokens': 81, 'completion_tokens_details': {'reasoning_tokens': 0}, 'prompt_tokens_details': {'cached_tokens': 0}}, 'model_name': 'gpt-3.5-turbo-0125', 'system_fingerprint': None, 'finish_reason': 'stop', 'logprobs': None}, id='run-fc61400b-a310-4a1d-8c35-69d58d827b29-0', usage_metadata={'input_tokens': 12, 'output_tokens': 69, 'total_tokens': 81}), HumanMessage(content='Where do you recommend I visit?', additional_kwargs={}, response_metadata={}, id='055901f8-b6af-4ee2-8821-0e9f4bcb332c'), AIMessage(content=\"If you're looking to try authentic Japanese cuisine, I highly recommend visiting Japan itself. Tokyo, Kyoto, and Osaka are known for their amazing food scene, with countless restaurants offering traditional dishes and modern twists on classic favorites. In Tokyo, you can visit Tsukiji Fish Market for the freshest sushi and seafood, while Kyoto is famous for its kaiseki cuisine, a multi-course meal showcasing seasonal ingredients. Osaka is known for its street food, including takoyaki (octopus balls) and okonomiyaki (savory pancakes).\\n\\nIf traveling to Japan is not possible, you can also check out local Japanese restaurants in your area. Many cities around the world have Japanese communities and restaurants that offer authentic dishes. Just be sure to read reviews and ask for recommendations to find the best spots for delicious Japanese food. Enjoy your culinary journey!\", additional_kwargs={'refusal': None}, response_metadata={'token_usage': {'completion_tokens': 169, 'prompt_tokens': 96, 'total_tokens': 265, 'completion_tokens_details': {'reasoning_tokens': 0}, 'prompt_tokens_details': {'cached_tokens': 0}}, 'model_name': 'gpt-3.5-turbo-0125', 'system_fingerprint': None, 'finish_reason': 'stop', 'logprobs': None}, id='run-2f876856-aa43-46d3-912b-94298eda9cbb-0', usage_metadata={'input_tokens': 96, 'output_tokens': 169, 'total_tokens': 265})]}, next=(), config={'configurable': {'thread_id': '2', 'checkpoint_ns': '', 'checkpoint_id': '1ef8abff-2e2b-6d8d-8004-2ba495d9bef5'}}, metadata={'source': 'loop', 'writes': {'generator': {'messages': [AIMessage(content=\"If you're looking to try authentic Japanese cuisine, I highly recommend visiting Japan itself. Tokyo, Kyoto, and Osaka are known for their amazing food scene, with countless restaurants offering traditional dishes and modern twists on classic favorites. In Tokyo, you can visit Tsukiji Fish Market for the freshest sushi and seafood, while Kyoto is famous for its kaiseki cuisine, a multi-course meal showcasing seasonal ingredients. Osaka is known for its street food, including takoyaki (octopus balls) and okonomiyaki (savory pancakes).\\n\\nIf traveling to Japan is not possible, you can also check out local Japanese restaurants in your area. Many cities around the world have Japanese communities and restaurants that offer authentic dishes. Just be sure to read reviews and ask for recommendations to find the best spots for delicious Japanese food. Enjoy your culinary journey!\", additional_kwargs={'refusal': None}, response_metadata={'token_usage': {'completion_tokens': 169, 'prompt_tokens': 96, 'total_tokens': 265, 'completion_tokens_details': {'reasoning_tokens': 0}, 'prompt_tokens_details': {'cached_tokens': 0}}, 'model_name': 'gpt-3.5-turbo-0125', 'system_fingerprint': None, 'finish_reason': 'stop', 'logprobs': None}, id='run-2f876856-aa43-46d3-912b-94298eda9cbb-0', usage_metadata={'input_tokens': 96, 'output_tokens': 169, 'total_tokens': 265})]}}, 'step': 4, 'parents': {}}, created_at='2024-10-15T06:37:29.010727+00:00', parent_config={'configurable': {'thread_id': '2', 'checkpoint_ns': '', 'checkpoint_id': '1ef8abff-0f10-64bc-8003-8d7d8fd4cab1'}}, tasks=())\n"
     ]
    }
   ],
   "source": [
    "## Check memory\n",
    "snapshot = graph_with_memory.get_state(config_1)\n",
    "print(\"Thread 1: \", snapshot)\n",
    "\n",
    "snapshot = graph_with_memory.get_state(config_2)\n",
    "print(\"Thread 2: \", snapshot)"
   ]
  },
  {
   "cell_type": "markdown",
   "metadata": {},
   "source": [
    "Applying to report generation task"
   ]
  },
  {
   "cell_type": "code",
   "execution_count": null,
   "metadata": {},
   "outputs": [],
   "source": [
    "  "
   ]
  }
 ],
 "metadata": {
  "kernelspec": {
   "display_name": "llm_langchain",
   "language": "python",
   "name": "python3"
  },
  "language_info": {
   "codemirror_mode": {
    "name": "ipython",
    "version": 3
   },
   "file_extension": ".py",
   "mimetype": "text/x-python",
   "name": "python",
   "nbconvert_exporter": "python",
   "pygments_lexer": "ipython3",
   "version": "3.11.7"
  }
 },
 "nbformat": 4,
 "nbformat_minor": 2
}
