{
 "cells": [
  {
   "cell_type": "markdown",
   "metadata": {},
   "source": [
    "Experimenting with multimodal LLMs to interpret graphs"
   ]
  },
  {
   "cell_type": "code",
   "execution_count": 4,
   "metadata": {},
   "outputs": [],
   "source": [
    "import os\n",
    "import sys\n",
    "from dotenv import load_dotenv\n",
    "\n",
    "## Add root directory to path\n",
    "sys.path.append(os.path.abspath(os.path.join(os.getcwd(), \"../\")))\n",
    "\n",
    "load_dotenv()\n",
    "assert os.environ[\"LANGCHAIN_API_KEY\"], \"Please set the LANGCHAIN_API_KEY environment variable\"\n",
    "assert os.environ[\"OPENAI_API_KEY\"], \"Please set the OPENAI_API_KEY environment variable\""
   ]
  },
  {
   "cell_type": "code",
   "execution_count": 5,
   "metadata": {},
   "outputs": [],
   "source": [
    "from langchain_core.messages import HumanMessage\n",
    "from langchain_openai import ChatOpenAI\n",
    "\n",
    "openai_llm = ChatOpenAI(model=\"gpt-4o-mini\", api_key=os.environ[\"OPENAI_API_KEY\"])\n",
    "DATA_DIR = \"../../../data\"\n",
    "image_path = DATA_DIR + \"/processed/bi_dashboard_sample.png\""
   ]
  },
  {
   "cell_type": "code",
   "execution_count": 8,
   "metadata": {},
   "outputs": [],
   "source": [
    "import base64\n",
    "\n",
    "with open(image_path, \"rb\") as image_file:\n",
    "    image_data = base64.b64encode(image_file.read()).decode(\"utf-8\")"
   ]
  },
  {
   "cell_type": "code",
   "execution_count": 9,
   "metadata": {},
   "outputs": [
    {
     "name": "stdout",
     "output_type": "stream",
     "text": [
      "The dashboard contains four distinct charts, each providing insights into different aspects of the data:\n",
      "\n",
      "1. **Distribution of Exchange**:\n",
      "   - This is a pie chart showing the percentage distribution between two exchanges: ASX and AXW. ASX accounts for 50.6% of the total, while AXW represents 49.4%. The chart visually emphasizes the near-equal distribution of transactions between these two exchanges.\n",
      "\n",
      "2. **Distribution of Buy/Sell**:\n",
      "   - A bar chart that displays the counts of buying (B) versus selling (S) transactions. The counts for both categories appear to be relatively equal, indicating a balanced trading activity between buying and selling actions.\n",
      "\n",
      "3. **Quantity vs Price**:\n",
      "   - This scatter plot depicts the relationship between quantity and price. The data points are scattered across different price levels, suggesting variability in price for different quantities. There are notable clustering patterns at specific price levels, indicating common price points for certain quantities.\n",
      "\n",
      "4. **Distribution of Quantity**:\n",
      "   - A histogram showing the frequency distribution of quantities. The distribution appears to be somewhat uniform across lower quantities, with a gradual decline as quantities increase. This indicates that lower quantities are more frequently traded compared to higher ones.\n",
      "\n",
      "Overall, the dashboard provides a comprehensive overview of trading activities across exchanges, the nature of transactions (buy vs. sell), and the relationship between price and quantity.\n"
     ]
    }
   ],
   "source": [
    "message = HumanMessage(\n",
    "    content=[\n",
    "        {\"type\": \"text\", \"text\": \"Describe the charts in this dashboard.\"},\n",
    "        {\n",
    "            \"type\": \"image_url\",\n",
    "            \"image_url\": {\"url\": f\"data:image/jpeg;base64,{image_data}\"},\n",
    "        },\n",
    "    ],\n",
    ")\n",
    "response = openai_llm.invoke([message])\n",
    "print(response.content)"
   ]
  },
  {
   "cell_type": "markdown",
   "metadata": {},
   "source": [
    "Add more details in the prompt"
   ]
  },
  {
   "cell_type": "code",
   "execution_count": null,
   "metadata": {},
   "outputs": [],
   "source": [
    "categorical1, categorical2, continuous1, continuous2 = 'Exchange', 'BuySell', 'Quantity', 'Price'\n",
    "var_description = \"\"\"\n",
    "The Exchange variable describes the stock exchange where the trade was executed. \n",
    "The BuySell variable describes whether the trade was a buy or a sell. \n",
    "The Quantity variable describes the number of shares traded. \n",
    "The Price variable describes the price at which the shares were traded.\n",
    "\"\"\""
   ]
  }
 ],
 "metadata": {
  "kernelspec": {
   "display_name": "llm_langchain",
   "language": "python",
   "name": "python3"
  },
  "language_info": {
   "codemirror_mode": {
    "name": "ipython",
    "version": 3
   },
   "file_extension": ".py",
   "mimetype": "text/x-python",
   "name": "python",
   "nbconvert_exporter": "python",
   "pygments_lexer": "ipython3",
   "version": "3.11.7"
  }
 },
 "nbformat": 4,
 "nbformat_minor": 2
}
