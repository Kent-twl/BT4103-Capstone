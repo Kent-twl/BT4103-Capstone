{
 "cells": [
  {
   "cell_type": "code",
   "execution_count": 30,
   "metadata": {},
   "outputs": [],
   "source": [
    "import pandas as pd\n",
    "import numpy as np\n",
    "from sklearn.metrics import recall_score\n",
    "from sklearn.ensemble import IsolationForest\n",
    "from sklearn.preprocessing import StandardScaler\n",
    "from sklearn import svm\n",
    "from sklearn.mixture import GaussianMixture\n",
    "import anomaly as a\n",
    "from anomaly import DISCRETE_COLUMNS, CONTINUOUS_COLUMNS\n",
    "import datetime"
   ]
  },
  {
   "cell_type": "code",
   "execution_count": 26,
   "metadata": {},
   "outputs": [],
   "source": [
    "def introduce_anomalies(df):\n",
    "    data_anomalous = df.copy()\n",
    "    n_samples = df.shape[0]\n",
    "    n_anomalies = 100\n",
    "    anomaly_indices = np.random.choice(df.index, n_anomalies, replace=False)\n",
    "    \n",
    "    # Introduce anomalies in continuous features by adding large values\n",
    "    continuous_cols = df.select_dtypes(include=[np.number]).columns\n",
    "    for col in continuous_cols:\n",
    "        data_anomalous.loc[anomaly_indices, col] += np.random.normal(1000, 5, size=n_anomalies)  \n",
    "    \n",
    "    # Introduce anomalies in discrete features by changing categories to rare ones\n",
    "    discrete_cols = df.select_dtypes(exclude=[np.number]).columns\n",
    "    for col in discrete_cols:\n",
    "        unique_values = df[col].unique()\n",
    "        anomalous_values = np.random.choice(unique_values, size=n_anomalies, replace=True)\n",
    "        data_anomalous.loc[anomaly_indices, col] = anomalous_values\n",
    "    \n",
    "    # Create labels for the anomalies (1 = anomaly, 0 = normal)\n",
    "    labels = np.zeros(n_samples)\n",
    "    labels[anomaly_indices] = 1\n",
    "    return data_anomalous, labels"
   ]
  },
  {
   "cell_type": "code",
   "execution_count": 93,
   "metadata": {},
   "outputs": [],
   "source": [
    "# Load data and filter to one day of data\n",
    "df = a.load_excel(\"final_data.xlsx\")\n",
    "df = df.loc[df[\"CreateDate\"].dt.date == datetime.date(2024, 10, 28)]\n",
    "df = df.reset_index(drop=True)\n",
    "\n",
    "# Introduce anomalies\n",
    "anomalous_df, true_labels = introduce_anomalies(df)\n",
    "# Filter to relevant columns\n",
    "all_columns = DISCRETE_COLUMNS + CONTINUOUS_COLUMNS\n",
    "subset = anomalous_df[all_columns]\n",
    "\n",
    "# One hot encoding for categorical features\n",
    "features = pd.get_dummies(subset, columns=DISCRETE_COLUMNS)\n",
    "# Scale continuous features\n",
    "scaler = StandardScaler()\n",
    "features[CONTINUOUS_COLUMNS] = scaler.fit_transform(features[CONTINUOUS_COLUMNS])"
   ]
  },
  {
   "cell_type": "markdown",
   "metadata": {},
   "source": [
    "## Isolation Forest"
   ]
  },
  {
   "cell_type": "code",
   "execution_count": null,
   "metadata": {},
   "outputs": [
    {
     "name": "stdout",
     "output_type": "stream",
     "text": [
      "Model Recall: 0.88\n"
     ]
    }
   ],
   "source": [
    "model = IsolationForest(contamination=0.2, random_state=42)\n",
    "model.fit(features)\n",
    "# Predict anomalies\n",
    "predictions = model.predict(features)\n",
    "predictions = np.where(predictions == -1, 1, 0)\n",
    "\n",
    "# Calculate recall\n",
    "if_recall = recall_score(true_labels, predictions)\n",
    "print(f\"Model Recall: {if_recall:.2f}\")"
   ]
  },
  {
   "cell_type": "markdown",
   "metadata": {},
   "source": [
    "## One-class SVM"
   ]
  },
  {
   "cell_type": "code",
   "execution_count": 95,
   "metadata": {},
   "outputs": [
    {
     "name": "stdout",
     "output_type": "stream",
     "text": [
      "Model Recall: 1.00\n"
     ]
    }
   ],
   "source": [
    "model = svm.OneClassSVM(nu=0.1, kernel=\"rbf\", gamma=0.01) \n",
    "model.fit(features)\n",
    "# Predict anomalies\n",
    "predictions = model.predict(features)\n",
    "predictions = np.where(predictions == -1, 1, 0)\n",
    "\n",
    "# Calculate recall\n",
    "ocsvm_recall = recall_score(true_labels, predictions)\n",
    "print(f\"Model Recall: {ocsvm_recall:.2f}\")"
   ]
  },
  {
   "cell_type": "markdown",
   "metadata": {},
   "source": [
    "## Gaussian Mixture Model"
   ]
  },
  {
   "cell_type": "code",
   "execution_count": 96,
   "metadata": {},
   "outputs": [
    {
     "name": "stdout",
     "output_type": "stream",
     "text": [
      "Model Recall: 1.00\n"
     ]
    }
   ],
   "source": [
    "model = GaussianMixture(n_components=3, covariance_type='full', random_state=42)\n",
    "model.fit(features)\n",
    "# Predict anomalies\n",
    "log_likelihood = model.score_samples(features)\n",
    "threshold = np.percentile(log_likelihood, 5)\n",
    "# Identify anomalies\n",
    "predictions = np.where(log_likelihood < threshold, 1, 0)\n",
    "\n",
    "# Calculate recall\n",
    "gmm_recall = recall_score(true_labels, predictions)\n",
    "print(f\"Model Recall: {gmm_recall:.2f}\")"
   ]
  },
  {
   "cell_type": "code",
   "execution_count": null,
   "metadata": {},
   "outputs": [
    {
     "name": "stdout",
     "output_type": "stream",
     "text": [
      "Model Recall for Isolation Forest: 0.88\n",
      "Model Recall for One-Class SVM: 1.00\n",
      "Model Recall for Gaussian Mixture Model: 1.00\n"
     ]
    }
   ],
   "source": [
    "# Show results\n",
    "print(f\"Model Recall for Isolation Forest: {if_recall:.2f}\")\n",
    "print(f\"Model Recall for One-Class SVM: {ocsvm_recall:.2f}\")\n",
    "print(f\"Model Recall for Gaussian Mixture Model: {gmm_recall:.2f}\")"
   ]
  }
 ],
 "metadata": {
  "kernelspec": {
   "display_name": "Python 3",
   "language": "python",
   "name": "python3"
  },
  "language_info": {
   "codemirror_mode": {
    "name": "ipython",
    "version": 3
   },
   "file_extension": ".py",
   "mimetype": "text/x-python",
   "name": "python",
   "nbconvert_exporter": "python",
   "pygments_lexer": "ipython3",
   "version": "3.9.13"
  }
 },
 "nbformat": 4,
 "nbformat_minor": 2
}
