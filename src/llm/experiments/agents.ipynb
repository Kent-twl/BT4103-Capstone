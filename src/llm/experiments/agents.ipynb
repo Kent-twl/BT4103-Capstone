{
 "cells": [
  {
   "cell_type": "markdown",
   "metadata": {},
   "source": [
    "Yahoo Finance agent"
   ]
  },
  {
   "cell_type": "code",
   "execution_count": 6,
   "metadata": {},
   "outputs": [],
   "source": [
    "import os\n",
    "import sys\n",
    "from dotenv import load_dotenv\n",
    "\n",
    "## Add root directory to path\n",
    "sys.path.append(os.path.abspath(os.path.join(os.getcwd(), \"../\")))\n",
    "\n",
    "load_dotenv()\n",
    "assert os.environ[\"LANGCHAIN_API_KEY\"], \"Please set the LANGCHAIN_API_KEY environment variable\"\n",
    "assert os.environ[\"OPENAI_API_KEY\"], \"Please set the OPENAI_API_KEY environment variable\"\n",
    "assert os.environ[\"TAVILY_API_KEY\"], \"Please set the TAVILY_API_KEY environment variable\"\n",
    "\n",
    "from langchain_openai import ChatOpenAI\n",
    "from langchain_community.tools.yahoo_finance_news import YahooFinanceNewsTool\n",
    "from langchain_core.messages import HumanMessage, SystemMessage\n",
    "from langgraph.prebuilt import create_react_agent\n",
    "\n",
    "from pprint import pprint\n",
    "\n",
    "openai_llm = ChatOpenAI(model=\"gpt-4o-mini\", api_key=os.environ[\"OPENAI_API_KEY\"])\n",
    "DATA_DIR = \"../../../data/processed\""
   ]
  },
  {
   "cell_type": "code",
   "execution_count": 4,
   "metadata": {},
   "outputs": [],
   "source": [
    "llm = ChatOpenAI(temperature=0.0)\n",
    "tools = [YahooFinanceNewsTool()]\n",
    "graph = create_react_agent(llm, tools)"
   ]
  },
  {
   "cell_type": "code",
   "execution_count": 5,
   "metadata": {},
   "outputs": [
    {
     "name": "stdout",
     "output_type": "stream",
     "text": [
      "('I can retrieve news articles for a specific company, but I may not be able '\n",
      " 'to filter them by a specific date range. Would you like me to retrieve the '\n",
      " 'latest news for a particular company?')\n"
     ]
    }
   ],
   "source": [
    "messages = [SystemMessage(content=\"\"\"\n",
    "    You are an AI assistant to a team of traders and analysts. Help them find any relevant news for specified stocks.\n",
    "    Pay attention to the specified date ranges. If none are specified, retrieve the latest information you have.\n",
    "    If you cannot find all the required information, it is ok, just respond with what you have.\n",
    "\"\"\")]\n",
    "prompt = \"AAPL, 10 October 2024\"\n",
    "messages.append(HumanMessage(content=prompt))\n",
    "\n",
    "response = graph.invoke({\"messages\": [(\"user\", \"Are you able to retrieve news within a specified date range?\")]})\n",
    "pprint(response[\"messages\"][-1].content)"
   ]
  },
  {
   "cell_type": "markdown",
   "metadata": {},
   "source": [
    "Tavily Search agent"
   ]
  },
  {
   "cell_type": "code",
   "execution_count": null,
   "metadata": {},
   "outputs": [],
   "source": [
    "from langchain.utilities.tavily_search import TavilySearchAPIWrapper\n",
    "from langchain.tools.tavily_search import TavilySearchResults\n",
    "\n",
    "search = TavilySearchAPIWrapper()\n",
    "tavily_tool = TavilySearchResults(\n",
    "    api_wrapper=search,\n",
    "    search_depth=\"advanced\",\n",
    "    verbose=True,\n",
    "    include_answer=True,\n",
    "    # include_domains=[\"finance.yahoo.com\", \"bloomberg.com\", \"reuters.com\"]    \n",
    ")\n",
    "\n",
    "graph = create_react_agent(llm, [tavily_tool])"
   ]
  },
  {
   "cell_type": "code",
   "execution_count": 35,
   "metadata": {},
   "outputs": [
    {
     "name": "stdout",
     "output_type": "stream",
     "text": [
      "\u001b[32;1m\u001b[1;3mcontent='[{\"url\": \"https://finance.yahoo.com/news/2-straightforward-reasons-taiwan-semiconductor-145300871.html\", \"content\": \"Jan 3, 2024 · Thanks to a boost from AI-related hype and anticipated demand, TSMC\\'s stock price increased over 40% in 2023. Even so, here are three reasons\"}, {\"url\": \"https://finance.yahoo.com/news/prediction-taiwan-semiconductor-manufacturing-soar-161000115.html\", \"content\": \"Aug 18, 2024 · It\\'s been a great five years for TSMC stock with its 330% gain, and the next five years look just as promising. The reason is artificial intelligence (AI) and\"}, {\"url\": \"https://finance.yahoo.com/news/1-favorable-trend-explains-99-150800839.html\", \"content\": \"Sep 20, 2024 · Shares of Taiwan Semiconductor Manufacturing (NYSE: TSM) have soared over the last year, largely due to the soaring demand for cutting-edge chips.\"}, {\"url\": \"https://finance.yahoo.com/news/why-taiwan-semiconductor-stock-gaining-172300360.html\", \"content\": \"Mar 8, 2024 · Shares of Taiwan Semiconductor (NYSE: TSM) were moving higher today after the company reported February revenue that showed growth was accelerating year over\"}, {\"url\": \"https://finance.yahoo.com/news/3-reasons-buy-tsm-stock-190500310.html\", \"content\": \"Oct 23, 2024 · Moreover, the broader AI industry growth, which shows no signs of a bubble, should drive the TSMC stock.\"}]' name='tavily_search_results_json' tool_call_id='call_wePbjrsnp1gRqIAgpX6XZ0SN' artifact={'query': 'TSMC stock price increase reasons', 'follow_up_questions': None, 'answer': \"The stock price of Taiwan Semiconductor Manufacturing (TSMC) has seen significant increases due to factors such as the boost from AI-related hype, anticipated demand, and the soaring demand for cutting-edge chips. Additionally, the broader growth of the AI industry, which is showing no signs of a bubble, is expected to continue to drive TSMC's stock price upwards.\", 'images': [], 'results': [{'url': 'https://finance.yahoo.com/news/2-straightforward-reasons-taiwan-semiconductor-145300871.html', 'title': '2 Straightforward Reasons Taiwan Semiconductor Manufacturing ...', 'content': \"Jan 3, 2024 · Thanks to a boost from AI-related hype and anticipated demand, TSMC's stock price increased over 40% in 2023. Even so, here are three reasons\", 'score': 0.9872773, 'raw_content': None}, {'url': 'https://finance.yahoo.com/news/prediction-taiwan-semiconductor-manufacturing-soar-161000115.html', 'title': 'Taiwan Semiconductor Manufacturing Will Soar Over the Next 5 ...', 'content': \"Aug 18, 2024 · It's been a great five years for TSMC stock with its 330% gain, and the next five years look just as promising. The reason is artificial intelligence (AI) and\", 'score': 0.9683214, 'raw_content': None}, {'url': 'https://finance.yahoo.com/news/1-favorable-trend-explains-99-150800839.html', 'title': '1 Favorable Trend That Explains the 99% Increase in Taiwan ...', 'content': 'Sep 20, 2024 · Shares of Taiwan Semiconductor Manufacturing (NYSE: TSM) have soared over the last year, largely due to the soaring demand for cutting-edge chips.', 'score': 0.94834626, 'raw_content': None}, {'url': 'https://finance.yahoo.com/news/why-taiwan-semiconductor-stock-gaining-172300360.html', 'title': 'Why Taiwan Semiconductor Stock Was Gaining Today', 'content': 'Mar 8, 2024 · Shares of Taiwan Semiconductor (NYSE: TSM) were moving higher today after the company reported February revenue that showed growth was accelerating year over', 'score': 0.9234544, 'raw_content': None}, {'url': 'https://finance.yahoo.com/news/3-reasons-buy-tsm-stock-190500310.html', 'title': '3 Reasons to Buy TSM Stock Besides 54% Q3 Net Profits Surge', 'content': 'Oct 23, 2024 · Moreover, the broader AI industry growth, which shows no signs of a bubble, should drive the TSMC stock.', 'score': 0.8071568, 'raw_content': None}], 'response_time': 10.59}\u001b[0mThe rise in TSMC (Taiwan Semiconductor Manufacturing Company) stocks can be attributed to several reasons:\n",
      "\n",
      "1. **AI-Related Hype and Anticipated Demand**: TSMC's stock price increased over 40% in 2023 due to a boost from AI-related hype and anticipated demand.\n",
      "   Source: [Yahoo Finance](https://finance.yahoo.com/news/2-straightforward-reasons-taiwan-semiconductor-145300871.html) (Jan 3, 2024)\n",
      "\n",
      "2. **Soaring Demand for Cutting-Edge Chips**: TSMC's shares have soared over the last year, largely driven by the soaring demand for cutting-edge chips.\n",
      "   Source: [Yahoo Finance](https://finance.yahoo.com/news/1-favorable-trend-explains-99-150800839.html) (Sep 20, 2024)\n",
      "\n",
      "3. **Broader AI Industry Growth**: The broader growth in the AI industry, which is showing no signs of a bubble, is expected to drive TSMC stock further.\n",
      "   Source: [Yahoo Finance](https://finance.yahoo.com/news/3-reasons-buy-tsm-stock-190500310.html) (Oct 23, 2024)\n",
      "\n",
      "These factors, including AI-related developments, increasing demand for advanced chips, and the overall growth in the AI industry, have contributed to the positive performance of TSMC stocks.\n"
     ]
    }
   ],
   "source": [
    "messages = [SystemMessage(content=\"\"\"\n",
    "    You are an AI assistant to a team of traders and analysts. Help them find relevant news or information to support their needs\n",
    "    or address their problems. Pay attention to the specified date ranges. Run a search for each day of the date range, \n",
    "    and compile the results. If no dates are specified, retrieve the latest information you have.\n",
    "    If you cannot find all the required information, it is ok, just respond with what you have.\n",
    "    Make sure you answer the user's question directly in your response.\n",
    "\"\"\")]\n",
    "prompt = \"TSMC stocks have been on the rise, what are some reasons why?\"\n",
    "messages.append(HumanMessage(content=prompt))\n",
    "\n",
    "response = graph.invoke({\"messages\": messages})\n",
    "print(response[\"messages\"][-1].content)"
   ]
  },
  {
   "cell_type": "markdown",
   "metadata": {},
   "source": [
    "Pandas dataframe agent"
   ]
  }
 ],
 "metadata": {
  "kernelspec": {
   "display_name": "bt4103_capstone",
   "language": "python",
   "name": "python3"
  },
  "language_info": {
   "codemirror_mode": {
    "name": "ipython",
    "version": 3
   },
   "file_extension": ".py",
   "mimetype": "text/x-python",
   "name": "python",
   "nbconvert_exporter": "python",
   "pygments_lexer": "ipython3",
   "version": "3.11.7"
  }
 },
 "nbformat": 4,
 "nbformat_minor": 2
}
