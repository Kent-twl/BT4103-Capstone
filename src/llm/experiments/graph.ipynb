{
 "cells": [
  {
   "cell_type": "code",
   "execution_count": 57,
   "metadata": {},
   "outputs": [],
   "source": [
    "## Imports\n",
    "## System imports\n",
    "import os\n",
    "import sys\n",
    "\n",
    "## Add root directory to path\n",
    "sys.path.append(os.path.abspath(os.path.join(os.getcwd(), \"../\")))\n",
    "\n",
    "## LangChain\n",
    "from langchain_groq import ChatGroq\n",
    "from langchain_openai import ChatOpenAI\n",
    "from langchain_core.output_parsers import StrOutputParser\n",
    "from langchain_core.prompts import PromptTemplate\n",
    "from langgraph.graph import StateGraph, START, END\n",
    "from langgraph.graph.message import add_messages\n",
    "from langchain_core.messages import HumanMessage, AIMessage, SystemMessage\n",
    "from langgraph.checkpoint.memory import MemorySaver\n",
    "from langchain_community.utilities import SQLDatabase\n",
    "from langchain_community.agent_toolkits import SQLDatabaseToolkit\n",
    "from langgraph.prebuilt import create_react_agent, ToolNode, tools_condition\n",
    "from langchain import hub\n",
    "from langchain_core.tools import tool\n",
    "\n",
    "## Python packages\n",
    "import pandas as pd\n",
    "from dotenv import load_dotenv\n",
    "from datetime import datetime\n",
    "from pprint import pprint\n",
    "from typing import Annotated\n",
    "from typing_extensions import TypedDict\n",
    "from IPython.display import Image, display\n",
    "from scipy.stats import pearsonr\n",
    "\n",
    "## Self-defined modules\n",
    "from utils import calculations, prompts"
   ]
  },
  {
   "cell_type": "code",
   "execution_count": 10,
   "metadata": {},
   "outputs": [],
   "source": [
    "load_dotenv()\n",
    "assert os.environ[\"LANGCHAIN_API_KEY\"], \"Please set the LANGCHAIN_API_KEY environment variable\"\n",
    "assert os.environ[\"GROQ_API_KEY\"], \"Please set the GROQ_API_KEY environment variable\"\n",
    "assert os.environ[\"OPENAI_API_KEY\"], \"Please set the OPENAI_API_KEY environment variable\""
   ]
  },
  {
   "cell_type": "code",
   "execution_count": 18,
   "metadata": {},
   "outputs": [],
   "source": [
    "## Creating graph\n",
    "\n",
    "class State(TypedDict):\n",
    "    ## Messages have the type \"list\"\n",
    "    ## The add_mesasges function in the annotation defines how this state key should be updated\n",
    "    ## ie. it appends messages to the list, rather than overwriting it\n",
    "    messages: Annotated[list, add_messages]\n",
    "\n",
    "\n",
    "graph_builder = StateGraph(State)\n",
    "\n",
    "## Add LLM node to graph\n",
    "openai_llm = ChatOpenAI(model=\"gpt-4o-mini\", api_key=os.environ[\"OPENAI_API_KEY\"])\n",
    "\n",
    "def generator(state: State):\n",
    "    return {\"messages\": [openai_llm.invoke(state[\"messages\"])]}\n",
    "\n",
    "graph_builder.add_node(\"generator\", generator) ## Node name, function to be called\n",
    "\n",
    "## Add edges\n",
    "graph_builder.add_edge(START, \"generator\")\n",
    "graph_builder.add_edge(\"generator\", END)\n",
    "\n",
    "graph = graph_builder.compile()"
   ]
  },
  {
   "cell_type": "code",
   "execution_count": 19,
   "metadata": {},
   "outputs": [
    {
     "data": {
      "image/jpeg": "[encoded data removed]",
      "text/plain": [
       "<IPython.core.display.Image object>"
      ]
     },
     "metadata": {},
     "output_type": "display_data"
    }
   ],
   "source": [
    "## Visualize graph\n",
    "def draw_graph(graph):\n",
    "    try:\n",
    "        display(Image(graph.get_graph().draw_mermaid_png()))\n",
    "    except:\n",
    "        print(\"Error displaying graph\")\n",
    "\n",
    "draw_graph(graph)"
   ]
  },
  {
   "cell_type": "code",
   "execution_count": null,
   "metadata": {},
   "outputs": [],
   "source": [
    "## Run the graph\n",
    "def stream_graph_updates(graph, user_input: str):\n",
    "    for event in graph.stream({\"messages\": [(\"user\", user_input)]}):\n",
    "        for value in event.values():\n",
    "            print(\"LLM:\", value[\"messages\"][-1].content)\n",
    "\n",
    "example_input = \"What is the best place to visit for nature lovers?\"\n",
    "\n",
    "pprint(stream_graph_updates(graph, example_input))"
   ]
  },
  {
   "cell_type": "code",
   "execution_count": null,
   "metadata": {},
   "outputs": [],
   "source": [
    "## Adding memory\n",
    "memory = MemorySaver()\n",
    "graph_with_memory = graph_builder.compile(checkpointer=memory)\n",
    "\n",
    "## Run the graph\n",
    "config_1 = {\"configurable\": {\"thread_id\": \"1\"}}\n",
    "\n",
    "def stream_graph_memory(graph, user_input: str, config):\n",
    "    events = graph.stream({\"messages\": [(\"user\", user_input)]}, config=config, stream_mode=\"values\")\n",
    "    for event in events:\n",
    "        event[\"messages\"][-1].pretty_print()\n",
    "\n",
    "stream_graph_memory(graph_with_memory, \"I love going on nature walks\", config_1)\n",
    "stream_graph_memory(graph_with_memory, \"Where do you recommend I visit?\", config_1)"
   ]
  },
  {
   "cell_type": "code",
   "execution_count": null,
   "metadata": {},
   "outputs": [],
   "source": [
    "## Use another thread\n",
    "config_2 = {\"configurable\": {\"thread_id\": \"2\"}}\n",
    "\n",
    "stream_graph_memory(graph_with_memory, \"I love eating Japanese food\", config_2)\n",
    "stream_graph_memory(graph_with_memory, \"Where do you recommend I visit?\", config_2)"
   ]
  },
  {
   "cell_type": "code",
   "execution_count": 8,
   "metadata": {},
   "outputs": [
    {
     "name": "stdout",
     "output_type": "stream",
     "text": [
      "Thread 1:  StateSnapshot(values={'messages': [HumanMessage(content='I love going on nature walks', additional_kwargs={}, response_metadata={}, id='6812eaea-bf78-4c79-873f-73effbcc8ff9'), AIMessage(content=\"and immersing myself in the beauty of the outdoors. There's something so calming and rejuvenating about being surrounded by trees, plants, and wildlife. I enjoy the fresh air, the sounds of birds chirping, and the feeling of being connected to the earth. Nature walks are a great way for me to clear my mind, de-stress, and appreciate the little wonders of the natural world. I always feel more energized and at peace after spending time outdoors, and I look forward to my next nature walk adventure.\", additional_kwargs={'refusal': None}, response_metadata={'token_usage': {'completion_tokens': 106, 'prompt_tokens': 13, 'total_tokens': 119, 'completion_tokens_details': {'audio_tokens': None, 'reasoning_tokens': 0}, 'prompt_tokens_details': {'audio_tokens': None, 'cached_tokens': 0}}, 'model_name': 'gpt-3.5-turbo-0125', 'system_fingerprint': None, 'finish_reason': 'stop', 'logprobs': None}, id='run-580be37c-1214-45cf-aa4c-29a0c7a5f1b7-0', usage_metadata={'input_tokens': 13, 'output_tokens': 106, 'total_tokens': 119, 'input_token_details': {'cache_read': 0}, 'output_token_details': {'reasoning': 0}}), HumanMessage(content='Where do you recommend I visit?', additional_kwargs={}, response_metadata={}, id='98e3d46e-da5b-4873-95dc-fa70b9ba1bdb'), AIMessage(content=\"There are so many beautiful places to explore in nature, but some of my top recommendations would be:\\n\\n1. National Parks: National parks offer some of the most stunning landscapes and diverse ecosystems in the country. Some popular national parks to visit include Yellowstone, Grand Canyon, Yosemite, and Great Smoky Mountains.\\n\\n2. State Parks: State parks are often less crowded than national parks and offer a more local and intimate experience with nature. Check out your state's parks for hiking trails, waterfalls, and scenic views.\\n\\n3. Nature Reserves: Nature reserves are protected areas that showcase the natural beauty and biodiversity of a specific region. Many nature reserves offer guided tours, educational programs, and opportunities for birdwatching and wildlife spotting.\\n\\n4. Botanical Gardens: Botanical gardens are a great way to experience a wide variety of plant species from around the world. These gardens often have beautiful landscapes, walking paths, and educational exhibits.\\n\\n5. Coastal Areas: If you enjoy the beach, consider visiting coastal areas with sandy shores, rocky cliffs, and tide pools. Coastal walks offer stunning ocean views, opportunities for beachcombing, and a chance to see marine life up close.\\n\\nNo matter where you choose to visit, spending time in nature is always a rewarding and enriching experience. Remember to respect the environment, follow Leave No Trace principles, and take only memories (and maybe some photos) with you when you leave. Enjoy your nature walk!\", additional_kwargs={'refusal': None}, response_metadata={'token_usage': {'completion_tokens': 289, 'prompt_tokens': 134, 'total_tokens': 423, 'completion_tokens_details': {'audio_tokens': None, 'reasoning_tokens': 0}, 'prompt_tokens_details': {'audio_tokens': None, 'cached_tokens': 0}}, 'model_name': 'gpt-3.5-turbo-0125', 'system_fingerprint': None, 'finish_reason': 'stop', 'logprobs': None}, id='run-fab7009b-ad6c-4961-b816-dd9d4264183f-0', usage_metadata={'input_tokens': 134, 'output_tokens': 289, 'total_tokens': 423, 'input_token_details': {'cache_read': 0}, 'output_token_details': {'reasoning': 0}})]}, next=(), config={'configurable': {'thread_id': '1', 'checkpoint_ns': '', 'checkpoint_id': '1ef90216-754f-674d-8004-0ef55c549e28'}}, metadata={'source': 'loop', 'writes': {'generator': {'messages': [AIMessage(content=\"There are so many beautiful places to explore in nature, but some of my top recommendations would be:\\n\\n1. National Parks: National parks offer some of the most stunning landscapes and diverse ecosystems in the country. Some popular national parks to visit include Yellowstone, Grand Canyon, Yosemite, and Great Smoky Mountains.\\n\\n2. State Parks: State parks are often less crowded than national parks and offer a more local and intimate experience with nature. Check out your state's parks for hiking trails, waterfalls, and scenic views.\\n\\n3. Nature Reserves: Nature reserves are protected areas that showcase the natural beauty and biodiversity of a specific region. Many nature reserves offer guided tours, educational programs, and opportunities for birdwatching and wildlife spotting.\\n\\n4. Botanical Gardens: Botanical gardens are a great way to experience a wide variety of plant species from around the world. These gardens often have beautiful landscapes, walking paths, and educational exhibits.\\n\\n5. Coastal Areas: If you enjoy the beach, consider visiting coastal areas with sandy shores, rocky cliffs, and tide pools. Coastal walks offer stunning ocean views, opportunities for beachcombing, and a chance to see marine life up close.\\n\\nNo matter where you choose to visit, spending time in nature is always a rewarding and enriching experience. Remember to respect the environment, follow Leave No Trace principles, and take only memories (and maybe some photos) with you when you leave. Enjoy your nature walk!\", additional_kwargs={'refusal': None}, response_metadata={'token_usage': {'completion_tokens': 289, 'prompt_tokens': 134, 'total_tokens': 423, 'completion_tokens_details': {'audio_tokens': None, 'reasoning_tokens': 0}, 'prompt_tokens_details': {'audio_tokens': None, 'cached_tokens': 0}}, 'model_name': 'gpt-3.5-turbo-0125', 'system_fingerprint': None, 'finish_reason': 'stop', 'logprobs': None}, id='run-fab7009b-ad6c-4961-b816-dd9d4264183f-0', usage_metadata={'input_tokens': 134, 'output_tokens': 289, 'total_tokens': 423, 'input_token_details': {'cache_read': 0}, 'output_token_details': {'reasoning': 0}})]}}, 'step': 4, 'parents': {}}, created_at='2024-10-22T02:57:41.366123+00:00', parent_config={'configurable': {'thread_id': '1', 'checkpoint_ns': '', 'checkpoint_id': '1ef90216-5780-63b8-8003-54fb8ca7e545'}}, tasks=())\n",
      "Thread 2:  StateSnapshot(values={'messages': [HumanMessage(content='I love eating Japanese food', additional_kwargs={}, response_metadata={}, id='b4f4a29c-3349-4d95-8367-f65883bbec75'), AIMessage(content=\"! It's so delicious and flavorful. Some of my favorite dishes include sushi, ramen, tempura, and teriyaki. The combination of fresh ingredients and unique flavors always leaves me feeling satisfied. Japanese cuisine is also visually appealing, with beautifully presented dishes that are a feast for the eyes as well as the taste buds. Whether I'm dining at a traditional Japanese restaurant or enjoying a homemade meal, Japanese food always brings me joy.\", additional_kwargs={'refusal': None}, response_metadata={'token_usage': {'completion_tokens': 88, 'prompt_tokens': 12, 'total_tokens': 100, 'completion_tokens_details': {'audio_tokens': None, 'reasoning_tokens': 0}, 'prompt_tokens_details': {'audio_tokens': None, 'cached_tokens': 0}}, 'model_name': 'gpt-3.5-turbo-0125', 'system_fingerprint': None, 'finish_reason': 'stop', 'logprobs': None}, id='run-c33a3d97-041b-49f3-a9ef-212e1ac6ec0a-0', usage_metadata={'input_tokens': 12, 'output_tokens': 88, 'total_tokens': 100, 'input_token_details': {'cache_read': 0}, 'output_token_details': {'reasoning': 0}}), HumanMessage(content='Where do you recommend I visit?', additional_kwargs={}, response_metadata={}, id='59bbae40-200d-45c5-97d5-bf2563810b71'), AIMessage(content=\"If you love Japanese food, I highly recommend visiting Japan itself to experience the authentic flavors and culinary traditions firsthand. Tokyo, Kyoto, and Osaka are all fantastic destinations for food lovers, with a wide range of restaurants offering everything from street food to Michelin-starred dining experiences.\\n\\nIn Tokyo, you can explore the bustling Tsukiji Fish Market, known for its fresh seafood and sushi stalls, or visit the quirky themed cafes in the Harajuku district. Kyoto is famous for its traditional kaiseki cuisine, which showcases the seasonal ingredients and artistic presentation that are hallmarks of Japanese cooking. And in Osaka, you can try local specialties like takoyaki (octopus balls), okonomiyaki (savory pancakes), and kushikatsu (deep-fried skewers).\\n\\nNo matter where you go in Japan, you're sure to find delicious food around every corner. Just be sure to come hungry and ready to indulge in all the amazing flavors that Japan has to offer!\", additional_kwargs={'refusal': None}, response_metadata={'token_usage': {'completion_tokens': 197, 'prompt_tokens': 115, 'total_tokens': 312, 'completion_tokens_details': {'audio_tokens': None, 'reasoning_tokens': 0}, 'prompt_tokens_details': {'audio_tokens': None, 'cached_tokens': 0}}, 'model_name': 'gpt-3.5-turbo-0125', 'system_fingerprint': None, 'finish_reason': 'stop', 'logprobs': None}, id='run-cfff8e53-2e26-4e8a-b7a8-9af8aa29055c-0', usage_metadata={'input_tokens': 115, 'output_tokens': 197, 'total_tokens': 312, 'input_token_details': {'cache_read': 0}, 'output_token_details': {'reasoning': 0}})]}, next=(), config={'configurable': {'thread_id': '2', 'checkpoint_ns': '', 'checkpoint_id': '1ef90216-a0ad-6544-8004-15dfebec3c69'}}, metadata={'source': 'loop', 'writes': {'generator': {'messages': [AIMessage(content=\"If you love Japanese food, I highly recommend visiting Japan itself to experience the authentic flavors and culinary traditions firsthand. Tokyo, Kyoto, and Osaka are all fantastic destinations for food lovers, with a wide range of restaurants offering everything from street food to Michelin-starred dining experiences.\\n\\nIn Tokyo, you can explore the bustling Tsukiji Fish Market, known for its fresh seafood and sushi stalls, or visit the quirky themed cafes in the Harajuku district. Kyoto is famous for its traditional kaiseki cuisine, which showcases the seasonal ingredients and artistic presentation that are hallmarks of Japanese cooking. And in Osaka, you can try local specialties like takoyaki (octopus balls), okonomiyaki (savory pancakes), and kushikatsu (deep-fried skewers).\\n\\nNo matter where you go in Japan, you're sure to find delicious food around every corner. Just be sure to come hungry and ready to indulge in all the amazing flavors that Japan has to offer!\", additional_kwargs={'refusal': None}, response_metadata={'token_usage': {'completion_tokens': 197, 'prompt_tokens': 115, 'total_tokens': 312, 'completion_tokens_details': {'audio_tokens': None, 'reasoning_tokens': 0}, 'prompt_tokens_details': {'audio_tokens': None, 'cached_tokens': 0}}, 'model_name': 'gpt-3.5-turbo-0125', 'system_fingerprint': None, 'finish_reason': 'stop', 'logprobs': None}, id='run-cfff8e53-2e26-4e8a-b7a8-9af8aa29055c-0', usage_metadata={'input_tokens': 115, 'output_tokens': 197, 'total_tokens': 312, 'input_token_details': {'cache_read': 0}, 'output_token_details': {'reasoning': 0}})]}}, 'step': 4, 'parents': {}}, created_at='2024-10-22T02:57:45.919008+00:00', parent_config={'configurable': {'thread_id': '2', 'checkpoint_ns': '', 'checkpoint_id': '1ef90216-843f-6bc3-8003-e9150ec1cee9'}}, tasks=())\n"
     ]
    }
   ],
   "source": [
    "## Check memory\n",
    "snapshot = graph_with_memory.get_state(config_1)\n",
    "print(\"Thread 1: \", snapshot)\n",
    "\n",
    "snapshot = graph_with_memory.get_state(config_2)\n",
    "print(\"Thread 2: \", snapshot)"
   ]
  },
  {
   "cell_type": "markdown",
   "metadata": {},
   "source": [
    "Integrating with SQL agent"
   ]
  },
  {
   "cell_type": "code",
   "execution_count": 20,
   "metadata": {},
   "outputs": [
    {
     "name": "stdout",
     "output_type": "stream",
     "text": [
      "['orders']\n",
      "[QuerySQLDataBaseTool(description=\"Input to this tool is a detailed and correct SQL query, output is a result from the database. If the query is not correct, an error message will be returned. If an error is returned, rewrite the query, check the query, and try again. If you encounter an issue with Unknown column 'xxxx' in 'field list', use sql_db_schema to query the correct table fields.\", db=<langchain_community.utilities.sql_database.SQLDatabase object at 0x0000019B7FCAEA90>),\n",
      " InfoSQLDatabaseTool(description='Input to this tool is a comma-separated list of tables, output is the schema and sample rows for those tables. Be sure that the tables actually exist by calling sql_db_list_tables first! Example Input: table1, table2, table3', db=<langchain_community.utilities.sql_database.SQLDatabase object at 0x0000019B7FCAEA90>),\n",
      " ListSQLDatabaseTool(db=<langchain_community.utilities.sql_database.SQLDatabase object at 0x0000019B7FCAEA90>),\n",
      " QuerySQLCheckerTool(description='Use this tool to double check if your query is correct before executing it. Always use this tool before executing a query with sql_db_query!', db=<langchain_community.utilities.sql_database.SQLDatabase object at 0x0000019B7FCAEA90>, llm=ChatOpenAI(client=<openai.resources.chat.completions.Completions object at 0x0000019B7FA80350>, async_client=<openai.resources.chat.completions.AsyncCompletions object at 0x0000019B7F99F990>, root_client=<openai.OpenAI object at 0x0000019B7E252110>, root_async_client=<openai.AsyncOpenAI object at 0x0000019B7FC7E650>, model_kwargs={}, openai_api_key=SecretStr('**********')), llm_chain=LLMChain(verbose=False, prompt=PromptTemplate(input_variables=['dialect', 'query'], input_types={}, partial_variables={}, template='\\n{query}\\nDouble check the {dialect} query above for common mistakes, including:\\n- Using NOT IN with NULL values\\n- Using UNION when UNION ALL should have been used\\n- Using BETWEEN for exclusive ranges\\n- Data type mismatch in predicates\\n- Properly quoting identifiers\\n- Using the correct number of arguments for functions\\n- Casting to the correct data type\\n- Using the proper columns for joins\\n\\nIf there are any of the above mistakes, rewrite the query. If there are no mistakes, just reproduce the original query.\\n\\nOutput the final SQL query only.\\n\\nSQL Query: '), llm=ChatOpenAI(client=<openai.resources.chat.completions.Completions object at 0x0000019B7FA80350>, async_client=<openai.resources.chat.completions.AsyncCompletions object at 0x0000019B7F99F990>, root_client=<openai.OpenAI object at 0x0000019B7E252110>, root_async_client=<openai.AsyncOpenAI object at 0x0000019B7FC7E650>, model_kwargs={}, openai_api_key=SecretStr('**********')), output_parser=StrOutputParser(), llm_kwargs={}))]\n"
     ]
    }
   ],
   "source": [
    "## Set up\n",
    "DATA_DIR = \"../../../data/raw\"\n",
    "sqlite_db_path = DATA_DIR + \"/orders.db\"\n",
    "\n",
    "db = SQLDatabase.from_uri(f\"sqlite:///{sqlite_db_path}\")\n",
    "print(db.get_usable_table_names())\n",
    "\n",
    "sql_toolkit = SQLDatabaseToolkit(db=db, llm=openai_llm)\n",
    "sql_tools = sql_toolkit.get_tools()\n",
    "pprint(sql_tools)"
   ]
  },
  {
   "cell_type": "code",
   "execution_count": 39,
   "metadata": {},
   "outputs": [
    {
     "data": {
      "image/jpeg": "[encoded data removed]",
      "text/plain": [
       "<IPython.core.display.Image object>"
      ]
     },
     "metadata": {},
     "output_type": "display_data"
    }
   ],
   "source": [
    "## Build graph with SQL tools\n",
    "graph_builder = StateGraph(State)\n",
    "\n",
    "## Initialize LLM with SQL tools\n",
    "openai_llm = ChatOpenAI(model=\"gpt-4o-mini\", api_key=os.environ[\"OPENAI_API_KEY\"])\n",
    "llm_with_sql_tools = openai_llm.bind_tools(sql_tools)\n",
    "\n",
    "## Node for SQL tools\n",
    "def sql_generator(state: State):\n",
    "    state_messages = state[\"messages\"]\n",
    "\n",
    "    # ## Add state modifier. Provides instructions to LLM\n",
    "    # prompt_template = hub.pull(\"langchain-ai/sql-agent-system-prompt\")\n",
    "    # system_message = SystemMessage(prompt_template.format(dialect=\"SQLite\", top_k=5))\n",
    "    # state_messages = add_messages(system_message, state_messages)\n",
    "\n",
    "    return {\"messages\": [llm_with_sql_tools.invoke(state_messages)]}\n",
    "\n",
    "graph_builder.add_node(\"sql_generator\", sql_generator)\n",
    "\n",
    "sql_tool_node = ToolNode(tools=sql_tools)\n",
    "graph_builder.add_node(\"sql_tools\", sql_tool_node)\n",
    "\n",
    "## Function to create custom tool conditions\n",
    "## Returns \"tools\" if the chatbot asks to use a tool, and \"END\" if it is fine directly responding\n",
    "def create_tools_condition(tool_name: str=\"tools\"):\n",
    "    def ret_function(state: State):\n",
    "        if isinstance(state, list):\n",
    "            ai_message = state[-1]\n",
    "        elif messages := state.get(\"messages\", []):\n",
    "            ai_message = messages[-1]\n",
    "        else:\n",
    "            raise ValueError(f\"No messages found in input state to tool_edge: {state}\")\n",
    "        if hasattr(ai_message, \"tool_calls\") and len(ai_message.tool_calls) > 0:\n",
    "            return tool_name\n",
    "        return END\n",
    "    \n",
    "    return ret_function\n",
    "\n",
    "## If the message in sql_generator has tool calls, this edge routes it to the tools\n",
    "sql_tools_condition = create_tools_condition(\"sql_tools\")\n",
    "graph_builder.add_conditional_edges(\"sql_generator\", sql_tools_condition)\n",
    "\n",
    "## Every time tool is called, return to generator to determine next step\n",
    "graph_builder.add_edge(\"sql_tools\", \"sql_generator\")\n",
    "graph_builder.set_entry_point(\"sql_generator\")\n",
    "sql_graph = graph_builder.compile()\n",
    "draw_graph(sql_graph)"
   ]
  },
  {
   "cell_type": "code",
   "execution_count": 30,
   "metadata": {},
   "outputs": [
    {
     "data": {
      "text/plain": [
       "[{'name': 'sql_db_list_tables',\n",
       "  'args': {},\n",
       "  'id': 'call_3D6g0IDxEktQ2lHdYAk5IuSw',\n",
       "  'type': 'tool_call'}]"
      ]
     },
     "execution_count": 30,
     "metadata": {},
     "output_type": "execute_result"
    }
   ],
   "source": [
    "llm_with_sql_tools.invoke(\"Which security code had the highest volume of orders?\").tool_calls"
   ]
  },
  {
   "cell_type": "code",
   "execution_count": null,
   "metadata": {},
   "outputs": [],
   "source": [
    "## Trying it out\n",
    "sql_prompt = \"Which security code had the highest quantity of orders?\"\n",
    "# sql_prompt = [HumanMessage(\"Which security code had the highest volume of orders?\")]\n",
    "# prompt_template = hub.pull(\"langchain-ai/sql-agent-system-prompt\")\n",
    "# system_message = SystemMessage(prompt_template.format(dialect=\"SQLite\", top_k=5))\n",
    "# sql_prompt = add_messages(system_message, sql_prompt)\n",
    "# pprint(sql_prompt)\n",
    "\n",
    "# sql_graph.invoke({\"messages\": sql_prompt})\n",
    "\n",
    "pprint(stream_graph_updates(sql_graph, sql_prompt))\n"
   ]
  },
  {
   "cell_type": "markdown",
   "metadata": {},
   "source": [
    "Try with Python analysis tools"
   ]
  },
  {
   "cell_type": "code",
   "execution_count": 54,
   "metadata": {},
   "outputs": [
    {
     "name": "stdout",
     "output_type": "stream",
     "text": [
      "{'Exchange_summary': {'count': 5000, 'freq': 2529, 'top': 'ASX', 'unique': 2},\n",
      " 'Price_summary': {'25%': 66.2565975975,\n",
      "                   '50%': 192.09030074999998,\n",
      "                   '75%': 314.656192925,\n",
      "                   'count': 5000.0,\n",
      "                   'max': 491.3966331,\n",
      "                   'mean': 197.272703672342,\n",
      "                   'min': 28.73131515,\n",
      "                   'std': 137.3328735146845},\n",
      " 'relationship': {'type': 'categorical-continuous'}}\n"
     ]
    }
   ],
   "source": [
    "import pandas as pd\n",
    "from scipy.stats import pearsonr, chi2_contingency\n",
    "\n",
    "def analyze_csv(file_path: str, col1: str, col2: str) -> dict:\n",
    "    # Load the CSV file into a DataFrame\n",
    "    df = pd.read_csv(file_path)\n",
    "    \n",
    "    # Check if the columns exist in the DataFrame\n",
    "    if col1 not in df.columns or col2 not in df.columns:\n",
    "        raise ValueError(f\"Columns {col1} and/or {col2} not found in the CSV file.\")\n",
    "    \n",
    "    # Initialize the result dictionary\n",
    "    result = {}\n",
    "    \n",
    "    # Summary statistics for col1\n",
    "    result[f'{col1}_summary'] = df[col1].describe(include='all').to_dict()\n",
    "    \n",
    "    # Summary statistics for col2\n",
    "    result[f'{col2}_summary'] = df[col2].describe(include='all').to_dict()\n",
    "    \n",
    "    # Determine if columns are categorical or continuous\n",
    "    col1_is_categorical = df[col1].dtype == 'object' or df[col1].nunique() < 10\n",
    "    col2_is_categorical = df[col2].dtype == 'object' or df[col2].nunique() < 10\n",
    "    \n",
    "    # Relationship between col1 and col2\n",
    "    if col1_is_categorical and col2_is_categorical:\n",
    "        # Both columns are categorical\n",
    "        contingency_table = pd.crosstab(df[col1], df[col2])\n",
    "        chi2, p, _, _ = chi2_contingency(contingency_table)\n",
    "        result['relationship'] = {\n",
    "            'type': 'categorical-categorical',\n",
    "            'contingency_table': contingency_table.to_dict(),\n",
    "            'chi2_statistic': chi2,\n",
    "            'p_value': p\n",
    "        }\n",
    "    elif not col1_is_categorical and not col2_is_categorical:\n",
    "        # Both columns are continuous\n",
    "        correlation, p_value = pearsonr(df[col1], df[col2])\n",
    "        result['relationship'] = {\n",
    "            'type': 'continuous-continuous',\n",
    "            'correlation_coefficient': correlation,\n",
    "            'p_value': p_value\n",
    "        }\n",
    "    else:\n",
    "        # One column is categorical and the other is continuous\n",
    "        if col1_is_categorical:\n",
    "            categorical_col, continuous_col = col1, col2\n",
    "        else:\n",
    "            categorical_col, continuous_col = col2, col1\n",
    "        \n",
    "        result['relationship'] = {\n",
    "            'type': 'categorical-continuous'\n",
    "        }\n",
    "    \n",
    "    return result\n",
    "\n",
    "# Example usage\n",
    "file_path = '../../../data/raw/data.csv'\n",
    "col1 = 'Exchange'\n",
    "col2 = 'Price'\n",
    "analysis_result = analyze_csv(file_path, col1, col2)\n",
    "pprint(analysis_result)"
   ]
  },
  {
   "cell_type": "code",
   "execution_count": null,
   "metadata": {},
   "outputs": [],
   "source": [
    "## Use analysis result to generate a response\n",
    "prompt_template = hub.pull(\"langchain-ai/sql-agent-system-prompt\")\n",
    "system_message = SystemMessage(prompt_template.format(dialect=\"SQLite\", top_k=5))\n",
    "prompt_with_analysis = system_message + \"\"\"\n",
    "I have conducted some prelimnary analysis on the data. Here are the results:\n",
    "{analysis}\n",
    "Based on these results, query more information from the database to supplement them.\n",
    "For instance, if a certain security code has the highest quantity of orders, you can find the average value of those orders.\n",
    "Once you have more information, compile the preliminary results and your new results into a brief report.\n",
    "\"\"\"\n",
    "\n",
    "pprint(stream_graph_updates(sql_graph, prompt_with_analysis.format(analysis=analysis_result)))"
   ]
  },
  {
   "cell_type": "code",
   "execution_count": 58,
   "metadata": {},
   "outputs": [],
   "source": [
    "## Create a tool using the analysis function\n",
    "@tool\n",
    "def analyze_csv_tool(col1: str, col2: str) -> dict:\n",
    "    \"\"\"Analyze two columns of a csv file. Returns a dict.\"\"\"\n",
    "    return str(analyze_csv(DATA_DIR+\"/data.csv\", col1, col2))\n",
    "\n",
    "csv_tools = [analyze_csv_tool]\n",
    "csv_tool_node = ToolNode(tools=csv_tools)"
   ]
  },
  {
   "cell_type": "code",
   "execution_count": 63,
   "metadata": {},
   "outputs": [
    {
     "data": {
      "image/jpeg": "[encoded data removed]",
      "text/plain": [
       "<IPython.core.display.Image object>"
      ]
     },
     "metadata": {},
     "output_type": "display_data"
    }
   ],
   "source": [
    "## Build graph\n",
    "graph_builder = StateGraph(State)\n",
    "\n",
    "## Initialize LLM with SQL tools\n",
    "openai_llm = ChatOpenAI(model=\"gpt-4o-mini\", api_key=os.environ[\"OPENAI_API_KEY\"])\n",
    "llm_with_csv_tools = openai_llm.bind_tools(csv_tools)\n",
    "\n",
    "## Node for CSV tools\n",
    "def csv_generator(state: State):\n",
    "    return {\"messages\": [llm_with_csv_tools.invoke(state[\"messages\"])]}\n",
    "\n",
    "graph_builder.add_node(\"csv_generator\", csv_generator)\n",
    "\n",
    "csv_tool_node = ToolNode(tools=csv_tools)\n",
    "graph_builder.add_node(\"csv_tools\", csv_tool_node)\n",
    "\n",
    "## If the message in csv_generator has tool calls, this edge routes it to the tools\n",
    "csv_tools_condition = create_tools_condition(\"csv_tools\")\n",
    "graph_builder.add_conditional_edges(\"csv_generator\", csv_tools_condition)\n",
    "\n",
    "## Every time tool is called, return to generator to determine next step\n",
    "graph_builder.add_edge(\"csv_tools\", \"csv_generator\")\n",
    "graph_builder.set_entry_point(\"csv_generator\")\n",
    "csv_graph = graph_builder.compile()\n",
    "draw_graph(csv_graph)"
   ]
  },
  {
   "cell_type": "code",
   "execution_count": 64,
   "metadata": {},
   "outputs": [
    {
     "name": "stdout",
     "output_type": "stream",
     "text": [
      "LLM: \n",
      "LLM: {'Exchange_summary': {'count': 5000, 'unique': 2, 'top': 'ASX', 'freq': 2529}, 'Price_summary': {'count': 5000.0, 'mean': 197.272703672342, 'std': 137.3328735146845, 'min': 28.73131515, '25%': 66.2565975975, '50%': 192.09030074999998, '75%': 314.656192925, 'max': 491.3966331}, 'relationship': {'type': 'categorical-continuous'}}\n",
      "LLM: The analysis of the relationship between the 'Exchange' and 'Price' columns reveals the following insights:\n",
      "\n",
      "### Exchange Column\n",
      "- **Count**: 5000 entries\n",
      "- **Unique Exchanges**: 2 (there are two different exchanges represented)\n",
      "- **Top Exchange**: ASX (Australian Securities Exchange)\n",
      "- **Frequency of Top Exchange**: 2529 occurrences (approximately 50.58% of the total entries)\n",
      "\n",
      "### Price Column\n",
      "- **Count**: 5000 entries\n",
      "- **Mean Price**: 197.27\n",
      "- **Standard Deviation**: 137.33 (indicates variability in prices)\n",
      "- **Minimum Price**: 28.73\n",
      "- **25th Percentile (Q1)**: 66.26\n",
      "- **Median (Q2)**: 192.09\n",
      "- **75th Percentile (Q3)**: 314.66\n",
      "- **Maximum Price**: 491.40\n",
      "\n",
      "### Relationship\n",
      "- The relationship type between the 'Exchange' and 'Price' columns is categorized as **categorical-continuous**. This indicates that one variable (Exchange) is categorical while the other variable (Price) is continuous.\n",
      "\n",
      "This information suggests that there may be a significant difference in the prices associated with different exchanges, which could be further analyzed to explore specific trends or patterns.\n",
      "None\n"
     ]
    }
   ],
   "source": [
    "csv_prompt = \"Analyze the relationship between the 'Exchange' and 'Price' columns in the data.\"\n",
    "\n",
    "pprint(stream_graph_updates(csv_graph, csv_prompt))"
   ]
  },
  {
   "cell_type": "markdown",
   "metadata": {},
   "source": [
    "Try generating chart descriptions"
   ]
  }
 ],
 "metadata": {
  "kernelspec": {
   "display_name": "llm_langchain",
   "language": "python",
   "name": "python3"
  },
  "language_info": {
   "codemirror_mode": {
    "name": "ipython",
    "version": 3
   },
   "file_extension": ".py",
   "mimetype": "text/x-python",
   "name": "python",
   "nbconvert_exporter": "python",
   "pygments_lexer": "ipython3",
   "version": "3.11.7"
  }
 },
 "nbformat": 4,
 "nbformat_minor": 2
}
