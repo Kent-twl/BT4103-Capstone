{
 "cells": [
  {
   "cell_type": "markdown",
   "metadata": {},
   "source": [
    "Experimenting with multimodal LLMs to interpret graphs"
   ]
  },
  {
   "cell_type": "code",
   "execution_count": 9,
   "metadata": {},
   "outputs": [],
   "source": [
    "import os\n",
    "import sys\n",
    "from dotenv import load_dotenv\n",
    "\n",
    "## Add root directory to path\n",
    "sys.path.append(os.path.abspath(os.path.join(os.getcwd(), \"../\")))\n",
    "\n",
    "load_dotenv()\n",
    "assert os.environ[\"LANGCHAIN_API_KEY\"], \"Please set the LANGCHAIN_API_KEY environment variable\"\n",
    "assert os.environ[\"OPENAI_API_KEY\"], \"Please set the OPENAI_API_KEY environment variable\""
   ]
  },
  {
   "cell_type": "code",
   "execution_count": 10,
   "metadata": {},
   "outputs": [],
   "source": [
    "from langchain_core.messages import HumanMessage, SystemMessage\n",
    "from langchain_openai import ChatOpenAI\n",
    "\n",
    "openai_llm = ChatOpenAI(model=\"gpt-4o-mini\", api_key=os.environ[\"OPENAI_API_KEY\"])\n",
    "DATA_DIR = \"../../../data\"\n",
    "image_path = DATA_DIR + \"/processed/anomaly_detection_sample.png\""
   ]
  },
  {
   "cell_type": "code",
   "execution_count": 11,
   "metadata": {},
   "outputs": [],
   "source": [
    "import base64\n",
    "\n",
    "with open(image_path, \"rb\") as image_file:\n",
    "    image_data = base64.b64encode(image_file.read()).decode(\"utf-8\")"
   ]
  },
  {
   "cell_type": "code",
   "execution_count": 12,
   "metadata": {},
   "outputs": [
    {
     "name": "stdout",
     "output_type": "stream",
     "text": [
      "The chart displays a scatter plot titled \"Anomaly Detection in Financial Data Across Securities.\" Here's a breakdown of its components:\n",
      "\n",
      "- **Axes**: \n",
      "  - The x-axis represents the \"Price\" of the securities, ranging from 0 to 500.\n",
      "  - The y-axis represents the \"Quantity,\" ranging from 0 to 20,000.\n",
      "\n",
      "- **Data Points**: \n",
      "  - The plot features numerous colored dots, which indicate the quantities of different securities at various price levels. The colors suggest that there are multiple categories or types of securities represented.\n",
      "\n",
      "- **Anomalies**: \n",
      "  - Red 'X' markers highlight the anomalies in the data. These points are likely outliers that deviate significantly from the expected pattern of quantity based on price.\n",
      "\n",
      "- **Legend**: \n",
      "  - There is a legend indicating that the red markers represent \"Anomalies.\"\n",
      "\n",
      "Overall, the chart visually emphasizes the distribution of financial data across different securities while specifically identifying anomalous data points that may warrant further investigation.\n"
     ]
    }
   ],
   "source": [
    "message = HumanMessage(\n",
    "    content=[\n",
    "        {\"type\": \"text\", \"text\": \"Describe the charts in this dashboard.\"},\n",
    "        {\n",
    "            \"type\": \"image_url\",\n",
    "            \"image_url\": {\"url\": f\"data:image/jpeg;base64,{image_data}\"},\n",
    "        },\n",
    "    ],\n",
    ")\n",
    "response = openai_llm.invoke([message])\n",
    "print(response.content)"
   ]
  },
  {
   "cell_type": "markdown",
   "metadata": {},
   "source": [
    "Add more details in the prompt"
   ]
  },
  {
   "cell_type": "code",
   "execution_count": 14,
   "metadata": {},
   "outputs": [
    {
     "name": "stdout",
     "output_type": "stream",
     "text": [
      "### Chart Description: Anomaly Detection in Financial Data Across Securities\n",
      "\n",
      "This scatter plot visualizes the results of an anomaly detection model applied to the institution's trading order data. Each point represents a unique trading order, plotted by its price on the x-axis and quantity on the y-axis. The red crosses highlight the flagged anomalies, indicating trades that deviate significantly from typical trading patterns.\n",
      "\n",
      "Compliance officers can utilize this chart to quickly identify suspicious activities that may warrant further investigation. The distribution of orders across various price ranges, with clusters of flagged anomalies, provides insight into potentially irregular trading behavior. By focusing on these highlighted points, compliance teams can prioritize their review of specific trades that may pose risks to market integrity or compliance with regulatory standards.\n"
     ]
    }
   ],
   "source": [
    "import prompts.dashboard_prompts as prompts\n",
    "\n",
    "messages = [\n",
    "    SystemMessage(content=prompts.system_prompt)\n",
    "]\n",
    "\n",
    "##TODO: Integrate anomalies and reasons\n",
    "anomalies_and_reasons = {}\n",
    "anomaly_prompt = prompts.anomaly_dash_prompt.format(anomalies_and_reasons=anomalies_and_reasons)\n",
    "\n",
    "messages.append(\n",
    "    HumanMessage(\n",
    "        content=[\n",
    "            {\"type\": \"text\", \"text\": anomaly_prompt},\n",
    "            {\n",
    "                \"type\": \"image_url\",\n",
    "                \"image_url\": {\"url\": f\"data:image/jpeg;base64,{image_data}\"},\n",
    "            },\n",
    "        ],\n",
    "    )\n",
    ")\n",
    "\n",
    "response = openai_llm.invoke(messages)\n",
    "print(response.content)"
   ]
  }
 ],
 "metadata": {
  "kernelspec": {
   "display_name": "llm_langchain",
   "language": "python",
   "name": "python3"
  },
  "language_info": {
   "codemirror_mode": {
    "name": "ipython",
    "version": 3
   },
   "file_extension": ".py",
   "mimetype": "text/x-python",
   "name": "python",
   "nbconvert_exporter": "python",
   "pygments_lexer": "ipython3",
   "version": "3.11.7"
  }
 },
 "nbformat": 4,
 "nbformat_minor": 2
}
