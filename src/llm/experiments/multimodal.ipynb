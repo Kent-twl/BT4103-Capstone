{
 "cells": [
  {
   "cell_type": "markdown",
   "metadata": {},
   "source": [
    "Experimenting with multimodal LLMs to interpret graphs"
   ]
  },
  {
   "cell_type": "code",
   "execution_count": 5,
   "metadata": {},
   "outputs": [],
   "source": [
    "import os\n",
    "import sys\n",
    "from dotenv import load_dotenv\n",
    "\n",
    "## Add root directory to path\n",
    "sys.path.append(os.path.abspath(os.path.join(os.getcwd(), \"../\")))\n",
    "\n",
    "load_dotenv()\n",
    "assert os.environ[\"LANGCHAIN_API_KEY\"], \"Please set the LANGCHAIN_API_KEY environment variable\"\n",
    "assert os.environ[\"OPENAI_API_KEY\"], \"Please set the OPENAI_API_KEY environment variable\"\n",
    "\n",
    "from langchain_core.messages import HumanMessage, SystemMessage\n",
    "from langchain_openai import ChatOpenAI\n",
    "import base64\n",
    "from pprint import pprint\n",
    "from prompts import dashboard_prompts, variable_descriptions\n",
    "\n",
    "openai_llm = ChatOpenAI(model=\"gpt-4o-mini\", api_key=os.environ[\"OPENAI_API_KEY\"])\n",
    "DATA_DIR = \"../../../data\""
   ]
  },
  {
   "cell_type": "markdown",
   "metadata": {},
   "source": [
    "Experiment with multi-agent network with prompt engineer"
   ]
  },
  {
   "cell_type": "code",
   "execution_count": 6,
   "metadata": {},
   "outputs": [
    {
     "name": "stdout",
     "output_type": "stream",
     "text": [
      "Initializing multi-agent network with prompt engineer...\n"
     ]
    }
   ],
   "source": [
    "from man_with_prompt_engineer import MANwithPromptEngineer, create_man_with_prompt_engineer\n",
    "\n",
    "main_system_message = \"\"\"\n",
    "    The user you are assisting today is a trader at an Australian financial institution,\n",
    "    interested in analyzing some trading data and other matters related to finance and trading.\n",
    "    Use your team to help him interpret and gather insights from charts on his dashboard. \n",
    "\"\"\"\n",
    "db_path = DATA_DIR + \"/raw/orders.db\"\n",
    "graph = MANwithPromptEngineer(main_system_message, db_path)"
   ]
  },
  {
   "cell_type": "code",
   "execution_count": null,
   "metadata": {},
   "outputs": [],
   "source": [
    "image_path_names = [\n",
    "    \"bi_bar_done_volume.jpg\", \"bi_bar_price_instruction.jpg\", \"bi_boxplot_done_volume.jpg\", \n",
    "    \"bi_pie_exchange.jpg\", \"bi_pie_lifetime.jpg\", \"bi_sankey_seccode_buysell.jpg\",\n",
    "    \"asic_pie_directed_wholesale.jpg\", \"asic_bar_order_capacity.jpg\"\n",
    "]\n",
    "\n",
    "image_path = DATA_DIR + \"/processed/\" + image_path_names[0]\n",
    "\n",
    "with open(image_path, \"rb\") as image_file:\n",
    "        image_data = base64.b64encode(image_file.read()).decode(\"utf-8\")\n",
    "\n",
    "message = HumanMessage(\n",
    "    content=[\n",
    "        {\"type\": \"text\", \"text\": \"This is a bar chart from 1 November 2024.\"},\n",
    "        {\n",
    "            \"type\": \"image_url\",\n",
    "            \"image_url\": {\"url\": f\"data:image/jpeg;base64,{image_data}\"},\n",
    "        },\n",
    "    ],\n",
    ")\n",
    "\n",
    "# response = graph.invoke_messages([message])\n",
    "# pprint(response)\n",
    "async for event in graph.graph.astream({\"messages\": [message]}, config=graph.config):\n",
    "    for value in event.values():\n",
    "        if \"sender\" in value:\n",
    "            sender = value[\"sender\"]\n",
    "        else:\n",
    "            sender = \"tool\"\n",
    "        print(\"-----------------\")\n",
    "        print(sender)\n",
    "        pprint(value[\"messages\"][-1].content)"
   ]
  },
  {
   "cell_type": "code",
   "execution_count": 21,
   "metadata": {},
   "outputs": [],
   "source": [
    "## Try separating multimodal interpreter from rest of graph\n",
    "graph, config = create_man_with_prompt_engineer(llm=openai_llm, main_system_message=\"\", db_path=db_path)"
   ]
  },
  {
   "cell_type": "code",
   "execution_count": 22,
   "metadata": {},
   "outputs": [
    {
     "name": "stdout",
     "output_type": "stream",
     "text": [
      "AIMessage(content='This boxplot displays the trading volume (DoneVolume) for the top five securities on October 30, 2024. \\n\\n### Key Features to Note:\\n- **Median Line:** The line inside each box indicates the median trading volume for each security.\\n- **Interquartile Range (IQR):** The box represents the middle 50% of the data, showing the range between the first (Q1) and third quartiles (Q3).\\n- **Whiskers:** The lines extending from the boxes indicate the range of the data, excluding outliers.\\n- **Outliers:** Points above or below the whiskers represent outlier trading volumes.\\n\\n### Insights Gained:\\n- **Volume Comparison:** Traders can quickly compare the trading volumes across different securities.\\n- **Volatility Assessment:** A wider IQR indicates higher volatility in trading volumes.\\n- **Outlier Identification:** Identifying outliers can help traders recognize unusual trading activities or anomalies that may warrant further investigation. \\n\\nThis visualization aids in making informed trading decisions by highlighting patterns and discrepancies in trading volumes.', additional_kwargs={'refusal': None}, response_metadata={'token_usage': {'completion_tokens': 214, 'prompt_tokens': 36972, 'total_tokens': 37186, 'completion_tokens_details': {'audio_tokens': 0, 'reasoning_tokens': 0, 'accepted_prediction_tokens': 0, 'rejected_prediction_tokens': 0}, 'prompt_tokens_details': {'audio_tokens': 0, 'cached_tokens': 0}}, 'model_name': 'gpt-4o-mini-2024-07-18', 'system_fingerprint': 'fp_9b78b61c52', 'finish_reason': 'stop', 'logprobs': None}, id='run-51a78313-e4e1-4e19-b7ec-790b746743fd-0', usage_metadata={'input_tokens': 36972, 'output_tokens': 214, 'total_tokens': 37186, 'input_token_details': {'audio': 0, 'cache_read': 0}, 'output_token_details': {'audio': 0, 'reasoning': 0}})\n"
     ]
    }
   ],
   "source": [
    "image_path_names = [\n",
    "    \"bi_bar_done_volume.jpg\", \"bi_bar_price_instruction.jpg\", \"bi_boxplot_done_volume.jpg\", \n",
    "    \"bi_pie_exchange.jpg\", \"bi_pie_lifetime.jpg\", \"bi_sankey_seccode_buysell.jpg\",\n",
    "    \"asic_pie_directed_wholesale.jpg\", \"asic_bar_order_capacity.jpg\"\n",
    "]\n",
    "\n",
    "image_path = DATA_DIR + \"/processed/\" + image_path_names[2]\n",
    "\n",
    "with open(image_path, \"rb\") as image_file:\n",
    "        image_data = base64.b64encode(image_file.read()).decode(\"utf-8\")\n",
    "\n",
    "messages = [\n",
    "    SystemMessage(content=dashboard_prompts.system_prompt),\n",
    "    # SystemMessage(content=\"These are the variables that you might encounter:\\n\"+variable_descriptions.variable_descriptions),\n",
    "    SystemMessage(content=dashboard_prompts.bi_dash_prompt)\n",
    "]\n",
    "\n",
    "message = HumanMessage(\n",
    "    content=[\n",
    "        {\"type\": \"text\", \"text\": \"This is a boxplot from 30 October 2024.\"},\n",
    "        {\n",
    "            \"type\": \"image_url\",\n",
    "            \"image_url\": {\"url\": f\"data:image/jpeg;base64,{image_data}\"},\n",
    "        },\n",
    "    ],\n",
    ")\n",
    "messages.append(message)\n",
    "\n",
    "prelim_response = openai_llm.invoke(messages)\n",
    "pprint(prelim_response)"
   ]
  },
  {
   "cell_type": "code",
   "execution_count": 23,
   "metadata": {},
   "outputs": [
    {
     "name": "stdout",
     "output_type": "stream",
     "text": [
      "{'messages': [AIMessage(content='This boxplot displays the trading volume (DoneVolume) for the top five securities on October 30, 2024. \\n\\n### Key Features to Note:\\n- **Median Line:** The line inside each box indicates the median trading volume for each security.\\n- **Interquartile Range (IQR):** The box represents the middle 50% of the data, showing the range between the first (Q1) and third quartiles (Q3).\\n- **Whiskers:** The lines extending from the boxes indicate the range of the data, excluding outliers.\\n- **Outliers:** Points above or below the whiskers represent outlier trading volumes.\\n\\n### Insights Gained:\\n- **Volume Comparison:** Traders can quickly compare the trading volumes across different securities.\\n- **Volatility Assessment:** A wider IQR indicates higher volatility in trading volumes.\\n- **Outlier Identification:** Identifying outliers can help traders recognize unusual trading activities or anomalies that may warrant further investigation. \\n\\nThis visualization aids in making informed trading decisions by highlighting patterns and discrepancies in trading volumes.', additional_kwargs={'refusal': None}, response_metadata={'token_usage': {'completion_tokens': 214, 'prompt_tokens': 36972, 'total_tokens': 37186, 'completion_tokens_details': {'audio_tokens': 0, 'reasoning_tokens': 0, 'accepted_prediction_tokens': 0, 'rejected_prediction_tokens': 0}, 'prompt_tokens_details': {'audio_tokens': 0, 'cached_tokens': 0}}, 'model_name': 'gpt-4o-mini-2024-07-18', 'system_fingerprint': 'fp_9b78b61c52', 'finish_reason': 'stop', 'logprobs': None}, id='run-51a78313-e4e1-4e19-b7ec-790b746743fd-0', usage_metadata={'input_tokens': 36972, 'output_tokens': 214, 'total_tokens': 37186, 'input_token_details': {'audio': 0, 'cache_read': 0}, 'output_token_details': {'audio': 0, 'reasoning': 0}}),\n",
      "              AIMessage(content='Based on the preliminary response, the requirements that can be fulfilled by the other assistants are as follows:\\n\\n1. **Data Visualization Assistant**: This assistant can create and explain the boxplot for the trading volume of the top five securities, emphasizing key features like median, IQR, whiskers, and outliers.\\n\\n2. **Data Analysis Assistant**: This assistant can provide insights gained from the boxplot, such as comparisons, volatility assessments, and identification of outliers.\\n\\nNow, I will prompt the relevant assistants accordingly.\\n\\n---\\n\\n**Prompt for Data Visualization Assistant:**\\n\"Create a boxplot that visualizes the trading volume (DoneVolume) for the top five securities on October 30, 2024. Ensure to highlight the median, interquartile range (IQR), whiskers, and any outliers in the data. Include a brief explanation of each feature in the boxplot.\"\\n\\n---\\n\\n**Prompt for Data Analysis Assistant:**\\n\"Analyze the boxplot created for the trading volume (DoneVolume) for the top five securities on October 30, 2024. Provide insights on volume comparison, volatility assessment based on the IQR, and identification of any outliers, explaining their significance in trading decisions.\" \\n\\n--- \\n\\nThese prompts will guide the assistants in delivering the required outputs effectively.', additional_kwargs={'refusal': None}, response_metadata={'token_usage': {'completion_tokens': 261, 'prompt_tokens': 405, 'total_tokens': 666, 'completion_tokens_details': {'audio_tokens': 0, 'reasoning_tokens': 0, 'accepted_prediction_tokens': 0, 'rejected_prediction_tokens': 0}, 'prompt_tokens_details': {'audio_tokens': 0, 'cached_tokens': 0}}, 'model_name': 'gpt-4o-mini-2024-07-18', 'system_fingerprint': 'fp_0ba0d124f1', 'finish_reason': 'stop', 'logprobs': None}, name='prompt_engineer', id='run-81dcf68d-2f51-44b4-b803-5480341c5223-0', usage_metadata={'input_tokens': 405, 'output_tokens': 261, 'total_tokens': 666, 'input_token_details': {'audio': 0, 'cache_read': 0}, 'output_token_details': {'audio': 0, 'reasoning': 0}}),\n",
      "              AIMessage(content='', additional_kwargs={'tool_calls': [{'id': 'call_AFDYvBSHSnoELCep8W8QR2dO', 'function': {'arguments': '{}', 'name': 'sql_db_list_tables'}, 'type': 'function'}, {'id': 'call_9avXOopLCE7bp9AwuACMOaZN', 'function': {'arguments': '{\"query\": \"SELECT Security, DoneVolume FROM TradingData WHERE Date = \\'2024-10-30\\' ORDER BY DoneVolume DESC LIMIT 5\"}', 'name': 'sql_db_query'}, 'type': 'function'}], 'refusal': None}, response_metadata={'token_usage': {'completion_tokens': 70, 'prompt_tokens': 925, 'total_tokens': 995, 'completion_tokens_details': {'audio_tokens': 0, 'reasoning_tokens': 0, 'accepted_prediction_tokens': 0, 'rejected_prediction_tokens': 0}, 'prompt_tokens_details': {'audio_tokens': 0, 'cached_tokens': 0}}, 'model_name': 'gpt-4o-mini-2024-07-18', 'system_fingerprint': 'fp_0ba0d124f1', 'finish_reason': 'tool_calls', 'logprobs': None}, name='sql_agent', id='run-64a21318-6071-4f7c-bde3-55e1f629d214-0', tool_calls=[{'name': 'sql_db_list_tables', 'args': {}, 'id': 'call_AFDYvBSHSnoELCep8W8QR2dO', 'type': 'tool_call'}, {'name': 'sql_db_query', 'args': {'query': \"SELECT Security, DoneVolume FROM TradingData WHERE Date = '2024-10-30' ORDER BY DoneVolume DESC LIMIT 5\"}, 'id': 'call_9avXOopLCE7bp9AwuACMOaZN', 'type': 'tool_call'}], usage_metadata={'input_tokens': 925, 'output_tokens': 70, 'total_tokens': 995, 'input_token_details': {'audio': 0, 'cache_read': 0}, 'output_token_details': {'audio': 0, 'reasoning': 0}}),\n",
      "              ToolMessage(content='orders', name='sql_db_list_tables', id='a04355f0-a11d-40ec-9485-f8c52821bd29', tool_call_id='call_AFDYvBSHSnoELCep8W8QR2dO'),\n",
      "              ToolMessage(content=\"Error: (sqlite3.OperationalError) no such table: TradingData\\n[SQL: SELECT Security, DoneVolume FROM TradingData WHERE Date = '2024-10-30' ORDER BY DoneVolume DESC LIMIT 5]\\n(Background on this error at: https://sqlalche.me/e/20/e3q8)\", name='sql_db_query', id='a73a01d1-98d7-44b6-be8a-0b719ffd9b8b', tool_call_id='call_9avXOopLCE7bp9AwuACMOaZN'),\n",
      "              AIMessage(content='', additional_kwargs={'tool_calls': [{'id': 'call_Gh892piDCW1tIi61TWrqwHJX', 'function': {'arguments': '{}', 'name': 'sql_db_list_tables'}, 'type': 'function'}], 'refusal': None}, response_metadata={'token_usage': {'completion_tokens': 12, 'prompt_tokens': 1082, 'total_tokens': 1094, 'completion_tokens_details': {'audio_tokens': 0, 'reasoning_tokens': 0, 'accepted_prediction_tokens': 0, 'rejected_prediction_tokens': 0}, 'prompt_tokens_details': {'audio_tokens': 0, 'cached_tokens': 0}}, 'model_name': 'gpt-4o-mini-2024-07-18', 'system_fingerprint': 'fp_0ba0d124f1', 'finish_reason': 'tool_calls', 'logprobs': None}, name='sql_agent', id='run-f36ba960-5014-4408-ba81-42d1f5a89b85-0', tool_calls=[{'name': 'sql_db_list_tables', 'args': {}, 'id': 'call_Gh892piDCW1tIi61TWrqwHJX', 'type': 'tool_call'}], usage_metadata={'input_tokens': 1082, 'output_tokens': 12, 'total_tokens': 1094, 'input_token_details': {'audio': 0, 'cache_read': 0}, 'output_token_details': {'audio': 0, 'reasoning': 0}}),\n",
      "              ToolMessage(content='orders', name='sql_db_list_tables', id='a4d3a874-0ee6-4ca2-9421-c0ab61833a1e', tool_call_id='call_Gh892piDCW1tIi61TWrqwHJX'),\n",
      "              AIMessage(content='', additional_kwargs={'tool_calls': [{'id': 'call_apuPaNUIf7qM1pJht4zeAd1m', 'function': {'arguments': '{\"table_names\":\"orders\"}', 'name': 'sql_db_schema'}, 'type': 'function'}], 'refusal': None}, response_metadata={'token_usage': {'completion_tokens': 16, 'prompt_tokens': 1108, 'total_tokens': 1124, 'completion_tokens_details': {'audio_tokens': 0, 'reasoning_tokens': 0, 'accepted_prediction_tokens': 0, 'rejected_prediction_tokens': 0}, 'prompt_tokens_details': {'audio_tokens': 0, 'cached_tokens': 1024}}, 'model_name': 'gpt-4o-mini-2024-07-18', 'system_fingerprint': 'fp_0ba0d124f1', 'finish_reason': 'tool_calls', 'logprobs': None}, name='sql_agent', id='run-d1f4cbfc-8818-461a-8d52-95c4e1944a53-0', tool_calls=[{'name': 'sql_db_schema', 'args': {'table_names': 'orders'}, 'id': 'call_apuPaNUIf7qM1pJht4zeAd1m', 'type': 'tool_call'}], usage_metadata={'input_tokens': 1108, 'output_tokens': 16, 'total_tokens': 1124, 'input_token_details': {'audio': 0, 'cache_read': 1024}, 'output_token_details': {'audio': 0, 'reasoning': 0}}),\n",
      "              ToolMessage(content='\\nCREATE TABLE orders (\\n\\t\"Instance\" TEXT, \\n\\t\"OrderNo\" BIGINT, \\n\\t\"ParentOrderNo\" BIGINT, \\n\\t\"RootParentOrderNo\" BIGINT, \\n\\t\"CreateDate\" TEXT, \\n\\t\"UpdateDate\" TEXT, \\n\\t\"DeleteDate\" TEXT, \\n\\t\"AccID\" BIGINT, \\n\\t\"AccCode\" TEXT, \\n\\t\"BuySell\" TEXT, \\n\\t\"Side\" BIGINT, \\n\\t\"OrderSide\" TEXT, \\n\\t\"SecID\" BIGINT, \\n\\t\"SecCode\" TEXT, \\n\\t\"Exchange\" TEXT, \\n\\t\"Destination\" TEXT, \\n\\t\"Quantity\" BIGINT, \\n\\t\"Price\" FLOAT, \\n\\t\"PriceMultiplier\" FLOAT, \\n\\t\"Value\" FLOAT, \\n\\t\"ValueMultiplier\" FLOAT, \\n\\t\"DoneVolume\" BIGINT, \\n\\t\"DoneValue\" FLOAT, \\n\\t\"Currency\" TEXT, \\n\\t\"OrderType\" BIGINT, \\n\\t\"PriceInstruction\" TEXT, \\n\\t\"TimeInForce\" BIGINT, \\n\\t\"Lifetime\" TEXT, \\n\\t\"ClientOrderID\" TEXT, \\n\\t\"SecondaryClientOrderID\" TEXT, \\n\\t\"DestOrderNo\" BIGINT, \\n\\t\"ExtDestOrderNo\" TEXT, \\n\\t\"DestUserID\" BIGINT, \\n\\t\"OrderGiver\" TEXT, \\n\\t\"OrderTakerUserCode\" TEXT, \\n\\t\"IntermediaryID\" BIGINT, \\n\\t\"OrderCapacity\" TEXT, \\n\\t\"DirectedWholesale\" TEXT, \\n\\t\"ExecutionVenue\" FLOAT, \\n\\t\"ExecutionInstructionsRaw\" TEXT\\n)\\n\\n/*\\n3 rows from orders table:\\nInstance\\tOrderNo\\tParentOrderNo\\tRootParentOrderNo\\tCreateDate\\tUpdateDate\\tDeleteDate\\tAccID\\tAccCode\\tBuySell\\tSide\\tOrderSide\\tSecID\\tSecCode\\tExchange\\tDestination\\tQuantity\\tPrice\\tPriceMultiplier\\tValue\\tValueMultiplier\\tDoneVolume\\tDoneValue\\tCurrency\\tOrderType\\tPriceInstruction\\tTimeInForce\\tLifetime\\tClientOrderID\\tSecondaryClientOrderID\\tDestOrderNo\\tExtDestOrderNo\\tDestUserID\\tOrderGiver\\tOrderTakerUserCode\\tIntermediaryID\\tOrderCapacity\\tDirectedWholesale\\tExecutionVenue\\tExecutionInstructionsRaw\\n3R5UN7E3XQ\\t996537256\\t996537256\\t996537256\\t2024-10-28 10:52:00\\t2024-10-28 14:32:53.000\\t2024-10-29 14:00:00\\t1048681\\tJackT\\tSell\\t2\\tLong Sell\\t83894615\\tNAB\\tASX\\tASX\\t11749\\t306.5627423283372\\t0.01\\t2447146.326363114\\t0.01\\t4851\\t1169309.176025975\\tAUD\\t2\\tLIMIT\\t1\\tEnd of Day\\tCID0935\\tCID0935\\t3059783991433470976\\t17Y19YXOID1C\\t4048\\trobbotest\\tadmin@IRETEST\\t1180091\\tPrincipal\\tYes\\tNone\\tIAOR(TESTINGACC), IOCA(Principal), IADW(N)\\n3R5UN7E3XQ\\t890940091\\t890940091\\t890940091\\t2024-10-29 12:11:00\\t2024-10-29 15:22:49.000\\t2024-10-30 12:24:00\\t2371377\\tFrankL\\tSell\\t3\\tShort Sell\\t36566943\\tMQG\\tASX\\tCXA\\t10868\\t408.0040819942108\\t0.01\\t5687903.920014255\\t0.01\\t1860\\t85892.98912732559\\tAUD\\t2\\tLIMIT\\t1\\tEnd of Day\\tCID1080\\tCID1080\\t5241980559709278208\\t17Y19YXOID1C\\t3453\\trobtest\\tadmin@ROBBOTEST\\t9325302\\tPrincipal\\tYes\\tNone\\tIAOR(TESTINGACC), IOCA(Agency), IADW(N)\\n3R5UN7E3XQ\\t217855720\\t217855720\\t503607604\\t2024-10-30 13:01:00\\t2024-10-30 13:01:00.000\\t2024-10-30 15:01:00\\t4629807\\tHankN\\tLong Buy\\t1\\tLong Buy\\t95103528\\tBHP\\tASX\\tASX\\t9951\\t274.4738477681448\\t0.01\\t2758040.458493608\\t0.01\\t3613\\t3495762.258200232\\tAUD\\t2\\tLIMIT\\t2\\tFill or Kill\\tCID0937\\tCID0937\\t160950672948584000\\t17Y19YXOID3O\\t3775\\trobbotest\\tadmin@ROBBOTEST\\t5273182\\tPrincipal\\tYes\\tNone\\tIAOR(TESTINGACC), IOCA(Principal), IADW(N)\\n*/', name='sql_db_schema', id='de4456ff-2b8e-408b-96c8-8d2b081df584', tool_call_id='call_apuPaNUIf7qM1pJht4zeAd1m'),\n",
      "              AIMessage(content='', additional_kwargs={'tool_calls': [{'id': 'call_XU31K3D63prKv06m0bNAvFLY', 'function': {'arguments': '{\"query\":\"SELECT SecCode, SUM(DoneVolume) as TotalVolume FROM orders WHERE CreateDate BETWEEN \\'2024-10-30 00:00:00\\' AND \\'2024-10-30 23:59:59\\' GROUP BY SecCode ORDER BY TotalVolume DESC LIMIT 5\"}', 'name': 'sql_db_query'}, 'type': 'function'}], 'refusal': None}, response_metadata={'token_usage': {'completion_tokens': 73, 'prompt_tokens': 2206, 'total_tokens': 2279, 'completion_tokens_details': {'audio_tokens': 0, 'reasoning_tokens': 0, 'accepted_prediction_tokens': 0, 'rejected_prediction_tokens': 0}, 'prompt_tokens_details': {'audio_tokens': 0, 'cached_tokens': 1024}}, 'model_name': 'gpt-4o-mini-2024-07-18', 'system_fingerprint': 'fp_0ba0d124f1', 'finish_reason': 'tool_calls', 'logprobs': None}, name='sql_agent', id='run-f65f4a33-1cba-4fce-85e1-46eeae2cfc24-0', tool_calls=[{'name': 'sql_db_query', 'args': {'query': \"SELECT SecCode, SUM(DoneVolume) as TotalVolume FROM orders WHERE CreateDate BETWEEN '2024-10-30 00:00:00' AND '2024-10-30 23:59:59' GROUP BY SecCode ORDER BY TotalVolume DESC LIMIT 5\"}, 'id': 'call_XU31K3D63prKv06m0bNAvFLY', 'type': 'tool_call'}], usage_metadata={'input_tokens': 2206, 'output_tokens': 73, 'total_tokens': 2279, 'input_token_details': {'audio': 0, 'cache_read': 1024}, 'output_token_details': {'audio': 0, 'reasoning': 0}}),\n",
      "              ToolMessage(content=\"[('CBA', 3567416), ('BHP', 2761713), ('CSL', 1760536), ('WBC', 1551628), ('NAB', 1539197)]\", name='sql_db_query', id='9c8782f1-1eca-4678-977f-5e03db06c873', tool_call_id='call_XU31K3D63prKv06m0bNAvFLY'),\n",
      "              AIMessage(content=\"I have retrieved the trading volume (DoneVolume) for the top five securities on October 30, 2024. Here are the results:\\n\\n1. **CBA**: 3,567,416\\n2. **BHP**: 2,761,713\\n3. **CSL**: 1,760,536\\n4. **WBC**: 1,551,628\\n5. **NAB**: 1,539,197\\n\\nNext, I will proceed to create a boxplot visualization based on these values and highlight the key features of the plot. Once that's done, I will analyze the insights gained from the boxplot.\", additional_kwargs={'refusal': None}, response_metadata={'token_usage': {'completion_tokens': 139, 'prompt_tokens': 2337, 'total_tokens': 2476, 'completion_tokens_details': {'audio_tokens': 0, 'reasoning_tokens': 0, 'accepted_prediction_tokens': 0, 'rejected_prediction_tokens': 0}, 'prompt_tokens_details': {'audio_tokens': 0, 'cached_tokens': 2048}}, 'model_name': 'gpt-4o-mini-2024-07-18', 'system_fingerprint': 'fp_0ba0d124f1', 'finish_reason': 'stop', 'logprobs': None}, name='sql_agent', id='run-208246f1-dc5c-41f7-a938-b92ffdd87961-0', usage_metadata={'input_tokens': 2337, 'output_tokens': 139, 'total_tokens': 2476, 'input_token_details': {'audio': 0, 'cache_read': 2048}, 'output_token_details': {'audio': 0, 'reasoning': 0}}),\n",
      "              AIMessage(content='', additional_kwargs={'tool_calls': [{'id': 'call_epqjpoiYYQLHbZTrrk4vkm9J', 'function': {'arguments': '{\"query\":\"boxplot visualization of trading volumes CBA, BHP, CSL, WBC, NAB for October 30, 2024\"}', 'name': 'tavily_search_results_json'}, 'type': 'function'}], 'refusal': None}, response_metadata={'token_usage': {'completion_tokens': 43, 'prompt_tokens': 2243, 'total_tokens': 2286, 'completion_tokens_details': {'audio_tokens': 0, 'reasoning_tokens': 0, 'accepted_prediction_tokens': 0, 'rejected_prediction_tokens': 0}, 'prompt_tokens_details': {'audio_tokens': 0, 'cached_tokens': 0}}, 'model_name': 'gpt-4o-mini-2024-07-18', 'system_fingerprint': 'fp_0ba0d124f1', 'finish_reason': 'tool_calls', 'logprobs': None}, name='tavily_agent', id='run-18d96655-993d-4415-bcba-3e129c0e402f-0', tool_calls=[{'name': 'tavily_search_results_json', 'args': {'query': 'boxplot visualization of trading volumes CBA, BHP, CSL, WBC, NAB for October 30, 2024'}, 'id': 'call_epqjpoiYYQLHbZTrrk4vkm9J', 'type': 'tool_call'}], usage_metadata={'input_tokens': 2243, 'output_tokens': 43, 'total_tokens': 2286, 'input_token_details': {'audio': 0, 'cache_read': 0}, 'output_token_details': {'audio': 0, 'reasoning': 0}}),\n",
      "              ToolMessage(content='[{\"url\": \"https://bullstreet.com.au/forecasting-commonwealth-banks-share-performance-in-fy25/\", \"content\": \"Forecasting Commonwealth Bank\\'s Share Performance in FY25 Investors of Commonwealth Bank of Australia (ASX: CBA) have witnessed a remarkable 30% growth in the past fiscal year. ... BHP Group Limited-[ASX: BHP] ANZ-ASX: ANZ; Westpac Banking Corporation-ASX: WBC; NATIONAL AUSTRALIA BANK LIMITED-ASX: NAB; CSL Limited-[ASX: CSL] ... Unpacking the\"}, {\"url\": \"https://boxplot.com/cheatsheet/\", \"content\": \"In addition to those listed below, Boxplot also uses more advanced visualization techniques than those listed here. With more advanced data analysis tools, you can create specialized charts (like for finance and scientific applications), add animations, include hover information, and code custom buttons to create even more useful data\"}, {\"url\": \"https://www.asx.com.au/content/dam/asx/markets/trade-our-cash-market/asx-centre-point-liquidity-report/2024/centre-point-report-june-24.pdf\", \"content\": \"ASX CODE ASX CODE BHP CBA CBA BHP CSL RIO RIO CSL FMG FMG 5Calculation represents one side of a trade (single sided). $4.0 billion • $1.26 trillion • $2.57 billion 4Excluding Lit Executions, i.e. Centre Point only. 1 Traded value calculated by (buys + sells)/2 where side has the order attribute. Note that figures may overlap as an order can have a combination of attributes.\"}, {\"url\": \"https://www.marketindex.com.au/news/chartwatch-your-top-10-asx-stocks-csl-bhp-fmg-pls-wds-rmd-cba-rio-min-and\", \"content\": \"ChartWatch is back in 2024 with technical analysis of your top ASX stocks in 2023. A detailed look at trends, price action and key levels to watch for CSL, BHP, Fortescue, Pilbara Minerals, Woodside, Resmed, Commbank, Rio Tinto, MinRes, and Macquarie.\"}, {\"url\": \"https://www.stockwatch.com.au/academy/articles/shares/bank-shares\", \"content\": \"The strongest performer is CBA with WBC trailing closely behind on the 5 year chart. The bottom performing bank stocks are NAB followed by ANZ. This is no surprise as we just finished showing that CBA and WBC had the strongest performing 5 year record. In general though, you can see these stocks trading in packs. Dividend Yields\"}]', name='tavily_search_results_json', id='ec3ebbc0-6226-4a9f-af25-f7d5fe386d12', tool_call_id='call_epqjpoiYYQLHbZTrrk4vkm9J', artifact={'query': 'boxplot visualization of trading volumes CBA, BHP, CSL, WBC, NAB for October 30, 2024', 'follow_up_questions': None, 'answer': \"I'm sorry, but based on the provided data, there is no specific information available regarding the trading volumes of CBA, BHP, CSL, WBC, and NAB for October 30, 2024.\", 'images': [], 'results': [{'title': \"Forecasting Commonwealth Bank's Share Performance in FY25\", 'url': 'https://bullstreet.com.au/forecasting-commonwealth-banks-share-performance-in-fy25/', 'content': \"Forecasting Commonwealth Bank's Share Performance in FY25 Investors of Commonwealth Bank of Australia (ASX: CBA) have witnessed a remarkable 30% growth in the past fiscal year. ... BHP Group Limited-[ASX: BHP] ANZ-ASX: ANZ; Westpac Banking Corporation-ASX: WBC; NATIONAL AUSTRALIA BANK LIMITED-ASX: NAB; CSL Limited-[ASX: CSL] ... Unpacking the\", 'score': 0.97622, 'raw_content': None}, {'title': 'Cheatsheet | Boxplot', 'url': 'https://boxplot.com/cheatsheet/', 'content': 'In addition to those listed below, Boxplot also uses more advanced visualization techniques than those listed here. With more advanced data analysis tools, you can create specialized charts (like for finance and scientific applications), add animations, include hover information, and code custom buttons to create even more useful data', 'score': 0.83575183, 'raw_content': None}, {'title': 'PDF', 'url': 'https://www.asx.com.au/content/dam/asx/markets/trade-our-cash-market/asx-centre-point-liquidity-report/2024/centre-point-report-june-24.pdf', 'content': 'ASX CODE ASX CODE BHP CBA CBA BHP CSL RIO RIO CSL FMG FMG 5Calculation represents one side of a trade (single sided). $4.0 billion • $1.26 trillion • $2.57 billion 4Excluding Lit Executions, i.e. Centre Point only. 1 Traded value calculated by (buys + sells)/2 where side has the order attribute. Note that figures may overlap as an order can have a combination of attributes.', 'score': 0.7439129, 'raw_content': None}, {'title': 'ChartWatch: Your Top 10 ASX stocks: CSL, BHP, FMG, PLS, WDS, RMD, CBA ...', 'url': 'https://www.marketindex.com.au/news/chartwatch-your-top-10-asx-stocks-csl-bhp-fmg-pls-wds-rmd-cba-rio-min-and', 'content': 'ChartWatch is back in 2024 with technical analysis of your top ASX stocks in 2023. A detailed look at trends, price action and key levels to watch for CSL, BHP, Fortescue, Pilbara Minerals, Woodside, Resmed, Commbank, Rio Tinto, MinRes, and Macquarie.', 'score': 0.5983122, 'raw_content': None}, {'title': 'ANZ vs CBA vs NAB vs WBC - StockWatch', 'url': 'https://www.stockwatch.com.au/academy/articles/shares/bank-shares', 'content': 'The strongest performer is CBA with WBC trailing closely behind on the 5 year chart. The bottom performing bank stocks are NAB followed by ANZ. This is no surprise as we just finished showing that CBA and WBC had the strongest performing 5 year record. In general though, you can see these stocks trading in packs. Dividend Yields', 'score': 0.5690146, 'raw_content': None}], 'response_time': 3.61}),\n",
      "              AIMessage(content=\"It seems I was unable to obtain a direct boxplot visualization from the search for the specific securities. However, I can describe how to create a boxplot with the gathered trading volumes of the top five securities:\\n\\n### Steps to Create a Boxplot\\n1. **Data Preparation:**\\n   - Organize the trading volumes:\\n     - CBA: 3,567,416\\n     - BHP: 2,761,713\\n     - CSL: 1,760,536\\n     - WBC: 1,551,628\\n     - NAB: 1,539,197\\n\\n2. **Use a Visualization Tool:**\\n   - You can use tools such as Python's Matplotlib or Seaborn, R's ggplot2, or online platforms like Google Charts.\\n\\n3. **Code Example (Python with Matplotlib):**\\n   ```python\\n   import matplotlib.pyplot as plt\\n\\n   # Data\\n   securities = ['CBA', 'BHP', 'CSL', 'WBC', 'NAB']\\n   volumes = [3567416, 2761713, 1760536, 1551628, 1539197]\\n\\n   # Creating the boxplot\\n   plt.figure(figsize=(10, 6))\\n   plt.boxplot(volumes)\\n   plt.xticks([1], ['Trading Volumes'])\\n   plt.title('Trading Volumes of Top 5 Securities on October 30, 2024')\\n   plt.ylabel('Volume')\\n   plt.show()\\n   ```\\n\\n4. **Interpretation:**\\n   - The boxplot will show the median, IQR, and any outliers in trading volume data.\\n\\n### Insights from the Trading Volume Data:\\n- **Volume Comparison:** CBA has the highest trading volume, significantly surpassing the others, indicating strong trading activity.\\n- **Volatility Assessment:** The distribution can be examined for spread. If CBA’s volume shows a large spread compared to the others, it indicates higher volatility.\\n- **Outlier Identification:** If any data points fall far outside the whiskers in a boxplot, they can be investigated for unusual trading activity.\\n\\nIf you need further assistance in visualizing or analyzing this data, please let me know!\", additional_kwargs={'refusal': None}, response_metadata={'token_usage': {'completion_tokens': 453, 'prompt_tokens': 2870, 'total_tokens': 3323, 'completion_tokens_details': {'audio_tokens': 0, 'reasoning_tokens': 0, 'accepted_prediction_tokens': 0, 'rejected_prediction_tokens': 0}, 'prompt_tokens_details': {'audio_tokens': 0, 'cached_tokens': 2176}}, 'model_name': 'gpt-4o-mini-2024-07-18', 'system_fingerprint': 'fp_0ba0d124f1', 'finish_reason': 'stop', 'logprobs': None}, name='tavily_agent', id='run-682b9df9-72f1-48b4-bb50-551ed2217968-0', usage_metadata={'input_tokens': 2870, 'output_tokens': 453, 'total_tokens': 3323, 'input_token_details': {'audio': 0, 'cache_read': 2176}, 'output_token_details': {'audio': 0, 'reasoning': 0}}),\n",
      "              AIMessage(content=\"FINAL_ANSWER\\n\\nI have gathered the trading volume (DoneVolume) for the top five securities on October 30, 2024, which are as follows:\\n\\n1. **CBA**: 3,567,416\\n2. **BHP**: 2,761,713\\n3. **CSL**: 1,760,536\\n4. **WBC**: 1,551,628\\n5. **NAB**: 1,539,197\\n\\nTo create a boxplot visualization, you can use tools such as Python's Matplotlib or Seaborn. The following example demonstrates how to create a boxplot using Matplotlib:\\n\\n```python\\nimport matplotlib.pyplot as plt\\n\\n# Data\\nsecurities = ['CBA', 'BHP', 'CSL', 'WBC', 'NAB']\\nvolumes = [3567416, 2761713, 1760536, 1551628, 1539197]\\n\\n# Creating the boxplot\\nplt.figure(figsize=(10, 6))\\nplt.boxplot(volumes)\\nplt.xticks([1], ['Trading Volumes'])\\nplt.title('Trading Volumes of Top 5 Securities on October 30, 2024')\\nplt.ylabel('Volume')\\nplt.show()\\n```\\n\\n### Insights from the Trading Volume Data:\\n- **Volume Comparison:** CBA has the highest trading volume, indicating strong trading activity.\\n- **Volatility Assessment:** The spread of the data can indicate volatility. A wider spread suggests higher volatility.\\n- **Outlier Identification:** Any data points far outside the whiskers can indicate unusual trading activity, warranting further investigation.\\n\\nYou can use these insights to make informed trading decisions based on the trading volume patterns observed. If you need further assistance or more specific analyses, feel free to ask!\", additional_kwargs={'refusal': None}, response_metadata={'token_usage': {'completion_tokens': 371, 'prompt_tokens': 3569, 'total_tokens': 3940, 'completion_tokens_details': {'audio_tokens': 0, 'reasoning_tokens': 0, 'accepted_prediction_tokens': 0, 'rejected_prediction_tokens': 0}, 'prompt_tokens_details': {'audio_tokens': 0, 'cached_tokens': 2176}}, 'model_name': 'gpt-4o-mini-2024-07-18', 'system_fingerprint': 'fp_0ba0d124f1', 'finish_reason': 'stop', 'logprobs': None}, name='sql_agent', id='run-50d2e751-aebc-40bb-9351-37c26d01de23-0', usage_metadata={'input_tokens': 3569, 'output_tokens': 371, 'total_tokens': 3940, 'input_token_details': {'audio': 0, 'cache_read': 2176}, 'output_token_details': {'audio': 0, 'reasoning': 0}})],\n",
      " 'sender': 'sql_agent'}\n"
     ]
    }
   ],
   "source": [
    "# async for event in graph.astream({\"messages\": [prelim_response]}, config=config):\n",
    "#     for value in event.values():\n",
    "#         if \"sender\" in value:\n",
    "#             sender = value[\"sender\"]\n",
    "#         else:\n",
    "#             sender = \"tool\"\n",
    "#         print(\"-----------------\")\n",
    "#         print(sender)\n",
    "#         pprint(value[\"messages\"][-1].content)\n",
    "pprint(graph.invoke({\"messages\": [prelim_response]}, config=config))"
   ]
  },
  {
   "cell_type": "markdown",
   "metadata": {},
   "source": [
    "Experiment with multi-agent network"
   ]
  },
  {
   "cell_type": "code",
   "execution_count": 2,
   "metadata": {},
   "outputs": [
    {
     "name": "stderr",
     "output_type": "stream",
     "text": [
      "USER_AGENT environment variable not set, consider setting it to identify your requests.\n"
     ]
    },
    {
     "name": "stdout",
     "output_type": "stream",
     "text": [
      "Initializing multi-agent chatbot...\n"
     ]
    }
   ],
   "source": [
    "from multiagent_network import MultiAgentNetwork\n",
    "\n",
    "main_system_message = \"\"\"\n",
    "    The user you are assisting today is a trader at an Australian financial institution,\n",
    "    interested in analyzing some trading data and other matters related to finance and trading.\n",
    "    Help him interpret charts on his dashboard. Use the tools available to you to gather more\n",
    "    insights to make sense of the charts.\n",
    "\"\"\"\n",
    "db_path = DATA_DIR + \"/raw/orders.db\"\n",
    "graph = MultiAgentNetwork(main_system_message, db_path, llm=\"openai\", agents=[\"sql\"], with_memory=True)"
   ]
  },
  {
   "cell_type": "code",
   "execution_count": 14,
   "metadata": {},
   "outputs": [],
   "source": [
    "image_path_names = [\n",
    "    \"bi_bar_done_volume.jpg\", \"bi_bar_price_instruction.jpg\", \"bi_boxplot_done_volume.jpg\", \n",
    "    \"bi_pie_exchange.jpg\", \"bi_pie_lifetime.jpg\", \"bi_sankey_seccode_buysell.jpg\",\n",
    "    \"asic_pie_directed_wholesale.jpg\", \"asic_bar_order_capacity.jpg\"\n",
    "]\n",
    "\n",
    "image_path = DATA_DIR + \"/processed/\" + image_path_names[3]\n",
    "\n",
    "with open(image_path, \"rb\") as image_file:\n",
    "        image_data = base64.b64encode(image_file.read()).decode(\"utf-8\")\n",
    "\n",
    "message = HumanMessage(\n",
    "    content=[\n",
    "        {\"type\": \"text\", \"text\": \"Help me interpret this chart from 1 November 2024.\"},\n",
    "        {\n",
    "            \"type\": \"image_url\",\n",
    "            \"image_url\": {\"url\": f\"data:image/jpeg;base64,{image_data}\"},\n",
    "        },\n",
    "    ],\n",
    ")\n",
    "\n",
    "response = graph.graph.stream({\"messages\": [message]}, graph.config)"
   ]
  },
  {
   "cell_type": "code",
   "execution_count": null,
   "metadata": {},
   "outputs": [],
   "source": [
    "# pprint(response['messages'][-1].content)\n",
    "for event in response:\n",
    "    for value in event.values():\n",
    "        if \"sender\" in value:\n",
    "            sender = value[\"sender\"]\n",
    "        else:\n",
    "            sender = \"tool\"\n",
    "        print(\"-----------------\")\n",
    "        print(sender, \"\\n\", value[\"messages\"][-1].content)"
   ]
  },
  {
   "cell_type": "markdown",
   "metadata": {},
   "source": [
    "Experiment on BI & ASIC dashboard charts"
   ]
  },
  {
   "cell_type": "code",
   "execution_count": null,
   "metadata": {},
   "outputs": [],
   "source": [
    "image_path_names = [\n",
    "    \"bi_bar_done_volume.jpg\", \"bi_bar_price_instruction.jpg\", \"bi_boxplot_done_volume.jpg\", \n",
    "    \"bi_pie_exchange.jpg\", \"bi_pie_lifetime.jpg\", \"bi_sankey_seccode_buysell.jpg\",\n",
    "    \"asic_pie_directed_wholesale.jpg\", \"asic_bar_order_capacity.jpg\"\n",
    "]\n",
    "\n",
    "for image_path_name in image_path_names:\n",
    "    image_path = DATA_DIR + \"/processed/\" + image_path_name\n",
    "\n",
    "    with open(image_path, \"rb\") as image_file:\n",
    "        image_data = base64.b64encode(image_file.read()).decode(\"utf-8\")\n",
    "\n",
    "    messages = [\n",
    "        SystemMessage(content=dashboard_prompts.system_prompt),\n",
    "        SystemMessage(content=\"These are the variables that you might encounter:\\n\"+variable_descriptions.variable_descriptions)\n",
    "    ]\n",
    "\n",
    "    messages.append(\n",
    "        HumanMessage(\n",
    "            content=[\n",
    "                {\"type\": \"text\", \"text\": dashboard_prompts.bi_dash_prompt},\n",
    "                {\n",
    "                    \"type\": \"image_url\",\n",
    "                    \"image_url\": {\"url\": f\"data:image/jpeg;base64,{image_data}\"},\n",
    "                },\n",
    "            ],\n",
    "        )\n",
    "    )\n",
    "\n",
    "    response = openai_llm.invoke(messages)\n",
    "    print(\"--------------------\")\n",
    "    print(response.content)"
   ]
  },
  {
   "cell_type": "markdown",
   "metadata": {},
   "source": [
    "Early experiments with image input"
   ]
  },
  {
   "cell_type": "code",
   "execution_count": null,
   "metadata": {},
   "outputs": [],
   "source": [
    "image_path = DATA_DIR + \"/anomaly_detection_sample.png\"\n",
    "\n",
    "with open(image_path, \"rb\") as image_file:\n",
    "    image_data = base64.b64encode(image_file.read()).decode(\"utf-8\")"
   ]
  },
  {
   "cell_type": "code",
   "execution_count": 12,
   "metadata": {},
   "outputs": [
    {
     "name": "stdout",
     "output_type": "stream",
     "text": [
      "The chart displays a scatter plot titled \"Anomaly Detection in Financial Data Across Securities.\" Here's a breakdown of its components:\n",
      "\n",
      "- **Axes**: \n",
      "  - The x-axis represents the \"Price\" of the securities, ranging from 0 to 500.\n",
      "  - The y-axis represents the \"Quantity,\" ranging from 0 to 20,000.\n",
      "\n",
      "- **Data Points**: \n",
      "  - The plot features numerous colored dots, which indicate the quantities of different securities at various price levels. The colors suggest that there are multiple categories or types of securities represented.\n",
      "\n",
      "- **Anomalies**: \n",
      "  - Red 'X' markers highlight the anomalies in the data. These points are likely outliers that deviate significantly from the expected pattern of quantity based on price.\n",
      "\n",
      "- **Legend**: \n",
      "  - There is a legend indicating that the red markers represent \"Anomalies.\"\n",
      "\n",
      "Overall, the chart visually emphasizes the distribution of financial data across different securities while specifically identifying anomalous data points that may warrant further investigation.\n"
     ]
    }
   ],
   "source": [
    "message = HumanMessage(\n",
    "    content=[\n",
    "        {\"type\": \"text\", \"text\": \"Describe the charts in this dashboard.\"},\n",
    "        {\n",
    "            \"type\": \"image_url\",\n",
    "            \"image_url\": {\"url\": f\"data:image/jpeg;base64,{image_data}\"},\n",
    "        },\n",
    "    ],\n",
    ")\n",
    "response = openai_llm.invoke([message])\n",
    "print(response.content)"
   ]
  },
  {
   "cell_type": "markdown",
   "metadata": {},
   "source": [
    "Add more details in the prompt"
   ]
  },
  {
   "cell_type": "code",
   "execution_count": 14,
   "metadata": {},
   "outputs": [
    {
     "name": "stdout",
     "output_type": "stream",
     "text": [
      "### Chart Description: Anomaly Detection in Financial Data Across Securities\n",
      "\n",
      "This scatter plot visualizes the results of an anomaly detection model applied to the institution's trading order data. Each point represents a unique trading order, plotted by its price on the x-axis and quantity on the y-axis. The red crosses highlight the flagged anomalies, indicating trades that deviate significantly from typical trading patterns.\n",
      "\n",
      "Compliance officers can utilize this chart to quickly identify suspicious activities that may warrant further investigation. The distribution of orders across various price ranges, with clusters of flagged anomalies, provides insight into potentially irregular trading behavior. By focusing on these highlighted points, compliance teams can prioritize their review of specific trades that may pose risks to market integrity or compliance with regulatory standards.\n"
     ]
    }
   ],
   "source": [
    "import prompts.dashboard_prompts as prompts\n",
    "\n",
    "messages = [\n",
    "    SystemMessage(content=prompts.system_prompt)\n",
    "]\n",
    "\n",
    "##TODO: Integrate anomalies and reasons\n",
    "anomalies_and_reasons = {}\n",
    "anomaly_prompt = prompts.anomaly_dash_prompt.format(anomalies_and_reasons=anomalies_and_reasons)\n",
    "\n",
    "messages.append(\n",
    "    HumanMessage(\n",
    "        content=[\n",
    "            {\"type\": \"text\", \"text\": anomaly_prompt},\n",
    "            {\n",
    "                \"type\": \"image_url\",\n",
    "                \"image_url\": {\"url\": f\"data:image/jpeg;base64,{image_data}\"},\n",
    "            },\n",
    "        ],\n",
    "    )\n",
    ")\n",
    "\n",
    "response = openai_llm.invoke(messages)\n",
    "print(response.content)"
   ]
  }
 ],
 "metadata": {
  "kernelspec": {
   "display_name": "bt4103_capstone",
   "language": "python",
   "name": "python3"
  },
  "language_info": {
   "codemirror_mode": {
    "name": "ipython",
    "version": 3
   },
   "file_extension": ".py",
   "mimetype": "text/x-python",
   "name": "python",
   "nbconvert_exporter": "python",
   "pygments_lexer": "ipython3",
   "version": "3.11.7"
  }
 },
 "nbformat": 4,
 "nbformat_minor": 2
}
